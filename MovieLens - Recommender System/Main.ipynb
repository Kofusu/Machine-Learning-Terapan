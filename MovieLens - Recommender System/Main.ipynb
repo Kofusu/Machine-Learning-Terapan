{
 "cells": [
  {
   "cell_type": "markdown",
   "id": "7c302c53",
   "metadata": {},
   "source": [
    "# Sistem Rekomendasi: MovieLens\n",
    "## Nama: Hendratara Pratama\n",
    "link dataset: [https://grouplens.org/datasets/movielens/](MovieLens)"
   ]
  },
  {
   "cell_type": "markdown",
   "id": "16c30583",
   "metadata": {},
   "source": [
    "## 1. Import Modul yang Diperlukan"
   ]
  },
  {
   "cell_type": "code",
   "execution_count": 1,
   "id": "b97c75e9",
   "metadata": {},
   "outputs": [],
   "source": [
    "# Proses Data Lib\n",
    "import pandas as pd \n",
    "import numpy as np\n",
    "\n",
    "# Visualisasi Data Lib\n",
    "import matplotlib.pyplot as plt\n",
    "import seaborn as sns\n",
    "\n",
    "# Sistem Rekomendasi Lib\n",
    "from sklearn.feature_extraction.text import TfidfVectorizer\n",
    "from sklearn.metrics.pairwise import cosine_similarity\n",
    "from sklearn.neighbors import NearestNeighbors"
   ]
  },
  {
   "cell_type": "markdown",
   "id": "ec120c21",
   "metadata": {},
   "source": [
    "## 2. Menyiapkan Dataset"
   ]
  },
  {
   "cell_type": "markdown",
   "id": "1a71f7c7",
   "metadata": {},
   "source": [
    "Dataset yang digunakan yaitu dataset rekomendasi film dari MovieLelens yang bisa ditemukan di [GroupLens](https://grouplens.org/datasets/movielens/)"
   ]
  },
  {
   "cell_type": "code",
   "execution_count": 2,
   "id": "f3c62207",
   "metadata": {},
   "outputs": [
    {
     "name": "stdout",
     "output_type": "stream",
     "text": [
      "  % Total    % Received % Xferd  Average Speed   Time    Time     Time  Current\n",
      "                                 Dload  Upload   Total   Spent    Left  Speed\n",
      "100  955k  100  955k    0     0   157k      0  0:00:06  0:00:06 --:--:--  194k\n"
     ]
    }
   ],
   "source": [
    "!curl https://files.grouplens.org/datasets/movielens/ml-latest-small.zip -o ./datasets/movielens.zip"
   ]
  },
  {
   "cell_type": "markdown",
   "id": "e8dca630",
   "metadata": {},
   "source": [
    "Lalu Compress ZIP file data yang telah di download"
   ]
  },
  {
   "cell_type": "code",
   "execution_count": 3,
   "id": "4fee4e57",
   "metadata": {},
   "outputs": [
    {
     "name": "stdout",
     "output_type": "stream",
     "text": [
      "Archive:  ./datasets/movielens.zip\n",
      "replace ./datasets/ml-latest-small/links.csv? [y]es, [n]o, [A]ll, [N]one, [r]ename: ^C\n"
     ]
    }
   ],
   "source": [
    "!unzip ./datasets/movielens.zip -d ./datasets/"
   ]
  },
  {
   "cell_type": "markdown",
   "id": "135399af",
   "metadata": {},
   "source": [
    "Melihat bentuk pohon dari _current work directory_"
   ]
  },
  {
   "cell_type": "code",
   "execution_count": 5,
   "id": "9543e5a5",
   "metadata": {},
   "outputs": [
    {
     "name": "stdout",
     "output_type": "stream",
     "text": [
      "\u001b[01;34m.\u001b[00m\r\n",
      "├── \u001b[01;34mdatasets\u001b[00m\r\n",
      "│   ├── \u001b[01;34mml-latest-small\u001b[00m\r\n",
      "│   │   ├── links.csv\r\n",
      "│   │   ├── movies.csv\r\n",
      "│   │   ├── ratings.csv\r\n",
      "│   │   ├── README.txt\r\n",
      "│   │   └── tags.csv\r\n",
      "│   └── \u001b[01;31mmovielens.zip\u001b[00m\r\n",
      "├── \u001b[01;34mimages\u001b[00m\r\n",
      "│   └── \u001b[01;35mtop-10-tags.png\u001b[00m\r\n",
      "├── Main.ipynb\r\n",
      "└── README.md\r\n",
      "\r\n",
      "3 directories, 9 files\r\n"
     ]
    }
   ],
   "source": [
    "!tree"
   ]
  },
  {
   "cell_type": "markdown",
   "id": "f65b76dd",
   "metadata": {},
   "source": [
    "## 3. Data Understanding"
   ]
  },
  {
   "cell_type": "markdown",
   "id": "4493c934",
   "metadata": {},
   "source": [
    "Mebuat dataframe dari file 4 file dari MovieLens yang sudah di download lalu lihat panjang dari datanya"
   ]
  },
  {
   "cell_type": "code",
   "execution_count": 6,
   "id": "862e278e",
   "metadata": {},
   "outputs": [
    {
     "data": {
      "text/plain": [
       "((9742, 3), (9742, 3), (100836, 4), (3683, 4))"
      ]
     },
     "execution_count": 6,
     "metadata": {},
     "output_type": "execute_result"
    }
   ],
   "source": [
    "# Memuat semua dataset yang tersedia menjadi datafame\n",
    "links_df = pd.read_csv('datasets/ml-latest-small/links.csv')\n",
    "movies_df = pd.read_csv('datasets/ml-latest-small/movies.csv')\n",
    "ratings_df = pd.read_csv('datasets/ml-latest-small/ratings.csv')\n",
    "tags_df = pd.read_csv('datasets/ml-latest-small/tags.csv')\n",
    "\n",
    "# Melihat shape / ukuran dataframe\n",
    "links_df.shape, movies_df.shape, ratings_df.shape, tags_df.shape"
   ]
  },
  {
   "cell_type": "markdown",
   "id": "6ea317be",
   "metadata": {},
   "source": [
    "Dataset berisi:\n",
    "- tags.csv -> Semua peringkat terkandung dalam file ratings.csv. Setiap baris file ini setelah baris header mewakili satu peringkat dari satu film oleh satu pengguna, dan memiliki format berikut: userId,movieId,rating,timestamp.\n",
    "\n",
    "- movies.csv -> Semua tag terkandung dalam file tags.csv. Setiap baris file ini setelah baris header mewakili satu tag yang diterapkan ke satu film oleh satu pengguna, dan memiliki format berikut: userId,movieId,tag,timestamp.\n",
    "\n",
    "- ratings.csv -> Informasi film terkandung dalam file movies.csv. Setiap baris file ini setelah baris header mewakili satu film, dan memiliki format berikut: movieId,title,genres.\n",
    "\n",
    "- tags.csv -> Pengidentifikasi yang dapat digunakan untuk menautkan ke sumber data film lainnya terdapat dalam file links.csv. Setiap baris file ini setelah baris header mewakili satu film, dan memiliki format berikut: movieId,imdbId,tmdbId."
   ]
  },
  {
   "cell_type": "markdown",
   "id": "2448f59f",
   "metadata": {},
   "source": [
    "Menampilkan summary dataframe links "
   ]
  },
  {
   "cell_type": "code",
   "execution_count": 7,
   "id": "37f8b483",
   "metadata": {},
   "outputs": [
    {
     "name": "stdout",
     "output_type": "stream",
     "text": [
      "<class 'pandas.core.frame.DataFrame'>\n",
      "RangeIndex: 9742 entries, 0 to 9741\n",
      "Data columns (total 3 columns):\n",
      " #   Column   Non-Null Count  Dtype  \n",
      "---  ------   --------------  -----  \n",
      " 0   movieId  9742 non-null   int64  \n",
      " 1   imdbId   9742 non-null   int64  \n",
      " 2   tmdbId   9734 non-null   float64\n",
      "dtypes: float64(1), int64(2)\n",
      "memory usage: 228.5 KB\n"
     ]
    }
   ],
   "source": [
    "# Menampilkan summary links dataframe\n",
    "links_df.info()"
   ]
  },
  {
   "cell_type": "markdown",
   "id": "e470495d",
   "metadata": {},
   "source": [
    "Menampilkan summary dataframe movie"
   ]
  },
  {
   "cell_type": "code",
   "execution_count": 8,
   "id": "95f9ad1a",
   "metadata": {},
   "outputs": [
    {
     "name": "stdout",
     "output_type": "stream",
     "text": [
      "<class 'pandas.core.frame.DataFrame'>\n",
      "RangeIndex: 9742 entries, 0 to 9741\n",
      "Data columns (total 3 columns):\n",
      " #   Column   Non-Null Count  Dtype \n",
      "---  ------   --------------  ----- \n",
      " 0   movieId  9742 non-null   int64 \n",
      " 1   title    9742 non-null   object\n",
      " 2   genres   9742 non-null   object\n",
      "dtypes: int64(1), object(2)\n",
      "memory usage: 228.5+ KB\n"
     ]
    }
   ],
   "source": [
    "# Menampilkan summary movies dataframe\n",
    "movies_df.info()"
   ]
  },
  {
   "cell_type": "markdown",
   "id": "f7f3d1a7",
   "metadata": {},
   "source": [
    "Menampilkan summary dataframe ratings"
   ]
  },
  {
   "cell_type": "code",
   "execution_count": 9,
   "id": "c91794f1",
   "metadata": {},
   "outputs": [
    {
     "name": "stdout",
     "output_type": "stream",
     "text": [
      "<class 'pandas.core.frame.DataFrame'>\n",
      "RangeIndex: 100836 entries, 0 to 100835\n",
      "Data columns (total 4 columns):\n",
      " #   Column     Non-Null Count   Dtype  \n",
      "---  ------     --------------   -----  \n",
      " 0   userId     100836 non-null  int64  \n",
      " 1   movieId    100836 non-null  int64  \n",
      " 2   rating     100836 non-null  float64\n",
      " 3   timestamp  100836 non-null  int64  \n",
      "dtypes: float64(1), int64(3)\n",
      "memory usage: 3.1 MB\n"
     ]
    }
   ],
   "source": [
    "# Menampilkan summary ratings dataframe\n",
    "ratings_df.info()"
   ]
  },
  {
   "cell_type": "markdown",
   "id": "87f05863",
   "metadata": {},
   "source": [
    "Menampilkan summary dataframe tags"
   ]
  },
  {
   "cell_type": "code",
   "execution_count": 10,
   "id": "14867e58",
   "metadata": {},
   "outputs": [
    {
     "name": "stdout",
     "output_type": "stream",
     "text": [
      "<class 'pandas.core.frame.DataFrame'>\n",
      "RangeIndex: 3683 entries, 0 to 3682\n",
      "Data columns (total 4 columns):\n",
      " #   Column     Non-Null Count  Dtype \n",
      "---  ------     --------------  ----- \n",
      " 0   userId     3683 non-null   int64 \n",
      " 1   movieId    3683 non-null   int64 \n",
      " 2   tag        3683 non-null   object\n",
      " 3   timestamp  3683 non-null   int64 \n",
      "dtypes: int64(3), object(1)\n",
      "memory usage: 115.2+ KB\n"
     ]
    }
   ],
   "source": [
    "# Menampilkan summary tags dataframe\n",
    "tags_df.info()"
   ]
  },
  {
   "cell_type": "markdown",
   "id": "89a893f6",
   "metadata": {},
   "source": [
    "Dari summary data diatas diketahui bahwa:\n",
    "- userId -> ID pengguna yang telah dianonimkan | (int64)\n",
    "- movieId -> movieId adalah pengidentifikasi untuk film yang digunakan oleh https://movielens.org. Misal film Toy Story memiliki link https://movielens.org/movies/1 | (int64)\n",
    "- rating -> Peringkat dibuat dalam skala 5 bintang, dengan peningkatan setengah bintang (0,5 bintang - 5,0 bintang) | (float64)\n",
    "- timestamp -> Stempel waktu mewakili detik sejak tengah malam Waktu Universal Terkoordinasi (UTC) tanggal 1 Januari 1970 | (int64)\n",
    "- tag -> Metadata buatan dari pengguna tentang film | (object)\n",
    "- title -> Judul film | (object)\n",
    "- genres -> list genre pipe-separated | (object)\n",
    "- imdbId -> imdbId adalah pengidentifikasi untuk film yang digunakan oleh http://www.imdb.com. Misalnya film Toy Story memiliki link http://www.imdb.com/title/tt0114709/ | (int64)\n",
    "- tmdbId -> tmdbId adalah pengenal untuk film yang digunakan oleh https://www.themoviedb.org. Misal film Toy Story memiliki link https://www.themoviedb.org/movie/862 | (float64)"
   ]
  },
  {
   "cell_type": "markdown",
   "id": "faa83513",
   "metadata": {},
   "source": [
    "Menampilkan data 5 teratas dari dataframe links"
   ]
  },
  {
   "cell_type": "code",
   "execution_count": 11,
   "id": "1c9d1f11",
   "metadata": {},
   "outputs": [
    {
     "data": {
      "text/html": [
       "<div>\n",
       "<style scoped>\n",
       "    .dataframe tbody tr th:only-of-type {\n",
       "        vertical-align: middle;\n",
       "    }\n",
       "\n",
       "    .dataframe tbody tr th {\n",
       "        vertical-align: top;\n",
       "    }\n",
       "\n",
       "    .dataframe thead th {\n",
       "        text-align: right;\n",
       "    }\n",
       "</style>\n",
       "<table border=\"1\" class=\"dataframe\">\n",
       "  <thead>\n",
       "    <tr style=\"text-align: right;\">\n",
       "      <th></th>\n",
       "      <th>movieId</th>\n",
       "      <th>imdbId</th>\n",
       "      <th>tmdbId</th>\n",
       "    </tr>\n",
       "  </thead>\n",
       "  <tbody>\n",
       "    <tr>\n",
       "      <th>0</th>\n",
       "      <td>1</td>\n",
       "      <td>114709</td>\n",
       "      <td>862.0</td>\n",
       "    </tr>\n",
       "    <tr>\n",
       "      <th>1</th>\n",
       "      <td>2</td>\n",
       "      <td>113497</td>\n",
       "      <td>8844.0</td>\n",
       "    </tr>\n",
       "    <tr>\n",
       "      <th>2</th>\n",
       "      <td>3</td>\n",
       "      <td>113228</td>\n",
       "      <td>15602.0</td>\n",
       "    </tr>\n",
       "    <tr>\n",
       "      <th>3</th>\n",
       "      <td>4</td>\n",
       "      <td>114885</td>\n",
       "      <td>31357.0</td>\n",
       "    </tr>\n",
       "    <tr>\n",
       "      <th>4</th>\n",
       "      <td>5</td>\n",
       "      <td>113041</td>\n",
       "      <td>11862.0</td>\n",
       "    </tr>\n",
       "  </tbody>\n",
       "</table>\n",
       "</div>"
      ],
      "text/plain": [
       "   movieId  imdbId   tmdbId\n",
       "0        1  114709    862.0\n",
       "1        2  113497   8844.0\n",
       "2        3  113228  15602.0\n",
       "3        4  114885  31357.0\n",
       "4        5  113041  11862.0"
      ]
     },
     "execution_count": 11,
     "metadata": {},
     "output_type": "execute_result"
    }
   ],
   "source": [
    "# Menampilkan data 5 teratas links dataframe\n",
    "links_df.head()"
   ]
  },
  {
   "cell_type": "markdown",
   "id": "f2ab1351",
   "metadata": {},
   "source": [
    "Menampilkan data 5 teratas dari dataframe movies"
   ]
  },
  {
   "cell_type": "code",
   "execution_count": 12,
   "id": "ddeca409",
   "metadata": {},
   "outputs": [
    {
     "data": {
      "text/html": [
       "<div>\n",
       "<style scoped>\n",
       "    .dataframe tbody tr th:only-of-type {\n",
       "        vertical-align: middle;\n",
       "    }\n",
       "\n",
       "    .dataframe tbody tr th {\n",
       "        vertical-align: top;\n",
       "    }\n",
       "\n",
       "    .dataframe thead th {\n",
       "        text-align: right;\n",
       "    }\n",
       "</style>\n",
       "<table border=\"1\" class=\"dataframe\">\n",
       "  <thead>\n",
       "    <tr style=\"text-align: right;\">\n",
       "      <th></th>\n",
       "      <th>movieId</th>\n",
       "      <th>title</th>\n",
       "      <th>genres</th>\n",
       "    </tr>\n",
       "  </thead>\n",
       "  <tbody>\n",
       "    <tr>\n",
       "      <th>0</th>\n",
       "      <td>1</td>\n",
       "      <td>Toy Story (1995)</td>\n",
       "      <td>Adventure|Animation|Children|Comedy|Fantasy</td>\n",
       "    </tr>\n",
       "    <tr>\n",
       "      <th>1</th>\n",
       "      <td>2</td>\n",
       "      <td>Jumanji (1995)</td>\n",
       "      <td>Adventure|Children|Fantasy</td>\n",
       "    </tr>\n",
       "    <tr>\n",
       "      <th>2</th>\n",
       "      <td>3</td>\n",
       "      <td>Grumpier Old Men (1995)</td>\n",
       "      <td>Comedy|Romance</td>\n",
       "    </tr>\n",
       "    <tr>\n",
       "      <th>3</th>\n",
       "      <td>4</td>\n",
       "      <td>Waiting to Exhale (1995)</td>\n",
       "      <td>Comedy|Drama|Romance</td>\n",
       "    </tr>\n",
       "    <tr>\n",
       "      <th>4</th>\n",
       "      <td>5</td>\n",
       "      <td>Father of the Bride Part II (1995)</td>\n",
       "      <td>Comedy</td>\n",
       "    </tr>\n",
       "  </tbody>\n",
       "</table>\n",
       "</div>"
      ],
      "text/plain": [
       "   movieId                               title  \\\n",
       "0        1                    Toy Story (1995)   \n",
       "1        2                      Jumanji (1995)   \n",
       "2        3             Grumpier Old Men (1995)   \n",
       "3        4            Waiting to Exhale (1995)   \n",
       "4        5  Father of the Bride Part II (1995)   \n",
       "\n",
       "                                        genres  \n",
       "0  Adventure|Animation|Children|Comedy|Fantasy  \n",
       "1                   Adventure|Children|Fantasy  \n",
       "2                               Comedy|Romance  \n",
       "3                         Comedy|Drama|Romance  \n",
       "4                                       Comedy  "
      ]
     },
     "execution_count": 12,
     "metadata": {},
     "output_type": "execute_result"
    }
   ],
   "source": [
    "# Menampilkan data 5 teratas movies dataframe\n",
    "movies_df.head()"
   ]
  },
  {
   "cell_type": "markdown",
   "id": "9b3114f5",
   "metadata": {},
   "source": [
    "Menampilkan data 5 teratas dari dataframe ratings"
   ]
  },
  {
   "cell_type": "code",
   "execution_count": 13,
   "id": "8d3d0754",
   "metadata": {},
   "outputs": [
    {
     "data": {
      "text/html": [
       "<div>\n",
       "<style scoped>\n",
       "    .dataframe tbody tr th:only-of-type {\n",
       "        vertical-align: middle;\n",
       "    }\n",
       "\n",
       "    .dataframe tbody tr th {\n",
       "        vertical-align: top;\n",
       "    }\n",
       "\n",
       "    .dataframe thead th {\n",
       "        text-align: right;\n",
       "    }\n",
       "</style>\n",
       "<table border=\"1\" class=\"dataframe\">\n",
       "  <thead>\n",
       "    <tr style=\"text-align: right;\">\n",
       "      <th></th>\n",
       "      <th>userId</th>\n",
       "      <th>movieId</th>\n",
       "      <th>rating</th>\n",
       "      <th>timestamp</th>\n",
       "    </tr>\n",
       "  </thead>\n",
       "  <tbody>\n",
       "    <tr>\n",
       "      <th>0</th>\n",
       "      <td>1</td>\n",
       "      <td>1</td>\n",
       "      <td>4.0</td>\n",
       "      <td>964982703</td>\n",
       "    </tr>\n",
       "    <tr>\n",
       "      <th>1</th>\n",
       "      <td>1</td>\n",
       "      <td>3</td>\n",
       "      <td>4.0</td>\n",
       "      <td>964981247</td>\n",
       "    </tr>\n",
       "    <tr>\n",
       "      <th>2</th>\n",
       "      <td>1</td>\n",
       "      <td>6</td>\n",
       "      <td>4.0</td>\n",
       "      <td>964982224</td>\n",
       "    </tr>\n",
       "    <tr>\n",
       "      <th>3</th>\n",
       "      <td>1</td>\n",
       "      <td>47</td>\n",
       "      <td>5.0</td>\n",
       "      <td>964983815</td>\n",
       "    </tr>\n",
       "    <tr>\n",
       "      <th>4</th>\n",
       "      <td>1</td>\n",
       "      <td>50</td>\n",
       "      <td>5.0</td>\n",
       "      <td>964982931</td>\n",
       "    </tr>\n",
       "  </tbody>\n",
       "</table>\n",
       "</div>"
      ],
      "text/plain": [
       "   userId  movieId  rating  timestamp\n",
       "0       1        1     4.0  964982703\n",
       "1       1        3     4.0  964981247\n",
       "2       1        6     4.0  964982224\n",
       "3       1       47     5.0  964983815\n",
       "4       1       50     5.0  964982931"
      ]
     },
     "execution_count": 13,
     "metadata": {},
     "output_type": "execute_result"
    }
   ],
   "source": [
    "# Menampilkan data 5 teratas ratings dataframe\n",
    "ratings_df.head()"
   ]
  },
  {
   "cell_type": "markdown",
   "id": "5b7b9c58",
   "metadata": {},
   "source": [
    "Menampilkan data 5 teratas dari dataframe tags"
   ]
  },
  {
   "cell_type": "code",
   "execution_count": 14,
   "id": "e1f8f2f3",
   "metadata": {},
   "outputs": [
    {
     "data": {
      "text/html": [
       "<div>\n",
       "<style scoped>\n",
       "    .dataframe tbody tr th:only-of-type {\n",
       "        vertical-align: middle;\n",
       "    }\n",
       "\n",
       "    .dataframe tbody tr th {\n",
       "        vertical-align: top;\n",
       "    }\n",
       "\n",
       "    .dataframe thead th {\n",
       "        text-align: right;\n",
       "    }\n",
       "</style>\n",
       "<table border=\"1\" class=\"dataframe\">\n",
       "  <thead>\n",
       "    <tr style=\"text-align: right;\">\n",
       "      <th></th>\n",
       "      <th>userId</th>\n",
       "      <th>movieId</th>\n",
       "      <th>tag</th>\n",
       "      <th>timestamp</th>\n",
       "    </tr>\n",
       "  </thead>\n",
       "  <tbody>\n",
       "    <tr>\n",
       "      <th>0</th>\n",
       "      <td>2</td>\n",
       "      <td>60756</td>\n",
       "      <td>funny</td>\n",
       "      <td>1445714994</td>\n",
       "    </tr>\n",
       "    <tr>\n",
       "      <th>1</th>\n",
       "      <td>2</td>\n",
       "      <td>60756</td>\n",
       "      <td>Highly quotable</td>\n",
       "      <td>1445714996</td>\n",
       "    </tr>\n",
       "    <tr>\n",
       "      <th>2</th>\n",
       "      <td>2</td>\n",
       "      <td>60756</td>\n",
       "      <td>will ferrell</td>\n",
       "      <td>1445714992</td>\n",
       "    </tr>\n",
       "    <tr>\n",
       "      <th>3</th>\n",
       "      <td>2</td>\n",
       "      <td>89774</td>\n",
       "      <td>Boxing story</td>\n",
       "      <td>1445715207</td>\n",
       "    </tr>\n",
       "    <tr>\n",
       "      <th>4</th>\n",
       "      <td>2</td>\n",
       "      <td>89774</td>\n",
       "      <td>MMA</td>\n",
       "      <td>1445715200</td>\n",
       "    </tr>\n",
       "  </tbody>\n",
       "</table>\n",
       "</div>"
      ],
      "text/plain": [
       "   userId  movieId              tag   timestamp\n",
       "0       2    60756            funny  1445714994\n",
       "1       2    60756  Highly quotable  1445714996\n",
       "2       2    60756     will ferrell  1445714992\n",
       "3       2    89774     Boxing story  1445715207\n",
       "4       2    89774              MMA  1445715200"
      ]
     },
     "execution_count": 14,
     "metadata": {},
     "output_type": "execute_result"
    }
   ],
   "source": [
    "# Menampilkan data 5 teratas tags dataframe\n",
    "tags_df.head()"
   ]
  },
  {
   "cell_type": "markdown",
   "id": "44086f06",
   "metadata": {},
   "source": [
    "Melihat panjang data dari tag yang akan digunakan untuk content based filtering"
   ]
  },
  {
   "cell_type": "code",
   "execution_count": 15,
   "id": "b7d90fee",
   "metadata": {},
   "outputs": [
    {
     "data": {
      "text/plain": [
       "1589"
      ]
     },
     "execution_count": 15,
     "metadata": {},
     "output_type": "execute_result"
    }
   ],
   "source": [
    "# melihat unique dari tags\n",
    "len(tags_df['tag'].unique())"
   ]
  },
  {
   "cell_type": "markdown",
   "id": "dc87e1ee",
   "metadata": {},
   "source": [
    "## 4. Data Preprocessing"
   ]
  },
  {
   "cell_type": "markdown",
   "id": "a68c6a42",
   "metadata": {},
   "source": [
    "Menggabungkan Movies dengan Tags berdasarkan MovieId\n",
    "dan menampilkan 5 data teratas"
   ]
  },
  {
   "cell_type": "code",
   "execution_count": 16,
   "id": "c4c3277c",
   "metadata": {},
   "outputs": [
    {
     "data": {
      "text/html": [
       "<div>\n",
       "<style scoped>\n",
       "    .dataframe tbody tr th:only-of-type {\n",
       "        vertical-align: middle;\n",
       "    }\n",
       "\n",
       "    .dataframe tbody tr th {\n",
       "        vertical-align: top;\n",
       "    }\n",
       "\n",
       "    .dataframe thead th {\n",
       "        text-align: right;\n",
       "    }\n",
       "</style>\n",
       "<table border=\"1\" class=\"dataframe\">\n",
       "  <thead>\n",
       "    <tr style=\"text-align: right;\">\n",
       "      <th></th>\n",
       "      <th>movieId</th>\n",
       "      <th>title</th>\n",
       "      <th>genres</th>\n",
       "      <th>userId</th>\n",
       "      <th>tag</th>\n",
       "      <th>timestamp</th>\n",
       "    </tr>\n",
       "  </thead>\n",
       "  <tbody>\n",
       "    <tr>\n",
       "      <th>0</th>\n",
       "      <td>1</td>\n",
       "      <td>Toy Story (1995)</td>\n",
       "      <td>Adventure|Animation|Children|Comedy|Fantasy</td>\n",
       "      <td>336.0</td>\n",
       "      <td>pixar</td>\n",
       "      <td>1.139046e+09</td>\n",
       "    </tr>\n",
       "    <tr>\n",
       "      <th>1</th>\n",
       "      <td>1</td>\n",
       "      <td>Toy Story (1995)</td>\n",
       "      <td>Adventure|Animation|Children|Comedy|Fantasy</td>\n",
       "      <td>474.0</td>\n",
       "      <td>pixar</td>\n",
       "      <td>1.137207e+09</td>\n",
       "    </tr>\n",
       "    <tr>\n",
       "      <th>2</th>\n",
       "      <td>1</td>\n",
       "      <td>Toy Story (1995)</td>\n",
       "      <td>Adventure|Animation|Children|Comedy|Fantasy</td>\n",
       "      <td>567.0</td>\n",
       "      <td>fun</td>\n",
       "      <td>1.525286e+09</td>\n",
       "    </tr>\n",
       "    <tr>\n",
       "      <th>3</th>\n",
       "      <td>2</td>\n",
       "      <td>Jumanji (1995)</td>\n",
       "      <td>Adventure|Children|Fantasy</td>\n",
       "      <td>62.0</td>\n",
       "      <td>fantasy</td>\n",
       "      <td>1.528844e+09</td>\n",
       "    </tr>\n",
       "    <tr>\n",
       "      <th>4</th>\n",
       "      <td>2</td>\n",
       "      <td>Jumanji (1995)</td>\n",
       "      <td>Adventure|Children|Fantasy</td>\n",
       "      <td>62.0</td>\n",
       "      <td>magic board game</td>\n",
       "      <td>1.528844e+09</td>\n",
       "    </tr>\n",
       "  </tbody>\n",
       "</table>\n",
       "</div>"
      ],
      "text/plain": [
       "   movieId             title                                       genres  \\\n",
       "0        1  Toy Story (1995)  Adventure|Animation|Children|Comedy|Fantasy   \n",
       "1        1  Toy Story (1995)  Adventure|Animation|Children|Comedy|Fantasy   \n",
       "2        1  Toy Story (1995)  Adventure|Animation|Children|Comedy|Fantasy   \n",
       "3        2    Jumanji (1995)                   Adventure|Children|Fantasy   \n",
       "4        2    Jumanji (1995)                   Adventure|Children|Fantasy   \n",
       "\n",
       "   userId               tag     timestamp  \n",
       "0   336.0             pixar  1.139046e+09  \n",
       "1   474.0             pixar  1.137207e+09  \n",
       "2   567.0               fun  1.525286e+09  \n",
       "3    62.0           fantasy  1.528844e+09  \n",
       "4    62.0  magic board game  1.528844e+09  "
      ]
     },
     "execution_count": 16,
     "metadata": {},
     "output_type": "execute_result"
    }
   ],
   "source": [
    "# Menggabungkan Movies dengan Tags berdasarkan MovieId\n",
    "tag_movies_df = movies_df.merge(tags_df, on='movieId', how='left')\n",
    "tag_movies_df.head()"
   ]
  },
  {
   "cell_type": "markdown",
   "id": "04d6f226",
   "metadata": {},
   "source": [
    "Melihat total tag unik"
   ]
  },
  {
   "cell_type": "code",
   "execution_count": 17,
   "id": "20930bb5",
   "metadata": {},
   "outputs": [
    {
     "data": {
      "text/plain": [
       "1590"
      ]
     },
     "execution_count": 17,
     "metadata": {},
     "output_type": "execute_result"
    }
   ],
   "source": [
    "# Melihat isi tags unique\n",
    "len(tag_movies_df['tag'].unique().tolist())"
   ]
  },
  {
   "cell_type": "markdown",
   "id": "faed3e48",
   "metadata": {},
   "source": [
    "Melihat data kosong dari dataframe"
   ]
  },
  {
   "cell_type": "code",
   "execution_count": 18,
   "id": "c4f49794",
   "metadata": {},
   "outputs": [
    {
     "data": {
      "text/plain": [
       "movieId         0\n",
       "title           0\n",
       "genres          0\n",
       "userId       8170\n",
       "tag          8170\n",
       "timestamp    8170\n",
       "dtype: int64"
      ]
     },
     "execution_count": 18,
     "metadata": {},
     "output_type": "execute_result"
    }
   ],
   "source": [
    "# Melihat data not available / kosong\n",
    "tag_movies_df.isna().sum()"
   ]
  },
  {
   "cell_type": "markdown",
   "id": "2f0f8b71",
   "metadata": {},
   "source": [
    "menghapus movieId yang duplikat untuk digunakan."
   ]
  },
  {
   "cell_type": "code",
   "execution_count": 19,
   "id": "cae1093c",
   "metadata": {
    "scrolled": true
   },
   "outputs": [
    {
     "data": {
      "text/html": [
       "<div>\n",
       "<style scoped>\n",
       "    .dataframe tbody tr th:only-of-type {\n",
       "        vertical-align: middle;\n",
       "    }\n",
       "\n",
       "    .dataframe tbody tr th {\n",
       "        vertical-align: top;\n",
       "    }\n",
       "\n",
       "    .dataframe thead th {\n",
       "        text-align: right;\n",
       "    }\n",
       "</style>\n",
       "<table border=\"1\" class=\"dataframe\">\n",
       "  <thead>\n",
       "    <tr style=\"text-align: right;\">\n",
       "      <th></th>\n",
       "      <th>movieId</th>\n",
       "      <th>title</th>\n",
       "      <th>genres</th>\n",
       "      <th>userId</th>\n",
       "      <th>tag</th>\n",
       "      <th>timestamp</th>\n",
       "    </tr>\n",
       "  </thead>\n",
       "  <tbody>\n",
       "    <tr>\n",
       "      <th>0</th>\n",
       "      <td>1</td>\n",
       "      <td>Toy Story (1995)</td>\n",
       "      <td>Adventure|Animation|Children|Comedy|Fantasy</td>\n",
       "      <td>336.0</td>\n",
       "      <td>pixar</td>\n",
       "      <td>1.139046e+09</td>\n",
       "    </tr>\n",
       "    <tr>\n",
       "      <th>3</th>\n",
       "      <td>2</td>\n",
       "      <td>Jumanji (1995)</td>\n",
       "      <td>Adventure|Children|Fantasy</td>\n",
       "      <td>62.0</td>\n",
       "      <td>fantasy</td>\n",
       "      <td>1.528844e+09</td>\n",
       "    </tr>\n",
       "    <tr>\n",
       "      <th>7</th>\n",
       "      <td>3</td>\n",
       "      <td>Grumpier Old Men (1995)</td>\n",
       "      <td>Comedy|Romance</td>\n",
       "      <td>289.0</td>\n",
       "      <td>moldy</td>\n",
       "      <td>1.143425e+09</td>\n",
       "    </tr>\n",
       "    <tr>\n",
       "      <th>9</th>\n",
       "      <td>4</td>\n",
       "      <td>Waiting to Exhale (1995)</td>\n",
       "      <td>Comedy|Drama|Romance</td>\n",
       "      <td>NaN</td>\n",
       "      <td>NaN</td>\n",
       "      <td>NaN</td>\n",
       "    </tr>\n",
       "    <tr>\n",
       "      <th>10</th>\n",
       "      <td>5</td>\n",
       "      <td>Father of the Bride Part II (1995)</td>\n",
       "      <td>Comedy</td>\n",
       "      <td>474.0</td>\n",
       "      <td>pregnancy</td>\n",
       "      <td>1.137374e+09</td>\n",
       "    </tr>\n",
       "  </tbody>\n",
       "</table>\n",
       "</div>"
      ],
      "text/plain": [
       "    movieId                               title  \\\n",
       "0         1                    Toy Story (1995)   \n",
       "3         2                      Jumanji (1995)   \n",
       "7         3             Grumpier Old Men (1995)   \n",
       "9         4            Waiting to Exhale (1995)   \n",
       "10        5  Father of the Bride Part II (1995)   \n",
       "\n",
       "                                         genres  userId        tag  \\\n",
       "0   Adventure|Animation|Children|Comedy|Fantasy   336.0      pixar   \n",
       "3                    Adventure|Children|Fantasy    62.0    fantasy   \n",
       "7                                Comedy|Romance   289.0      moldy   \n",
       "9                          Comedy|Drama|Romance     NaN        NaN   \n",
       "10                                       Comedy   474.0  pregnancy   \n",
       "\n",
       "       timestamp  \n",
       "0   1.139046e+09  \n",
       "3   1.528844e+09  \n",
       "7   1.143425e+09  \n",
       "9            NaN  \n",
       "10  1.137374e+09  "
      ]
     },
     "execution_count": 19,
     "metadata": {},
     "output_type": "execute_result"
    }
   ],
   "source": [
    "# Membuang data duplikat\n",
    "preparation = tag_movies_df.drop_duplicates('movieId')\n",
    "preparation.head()"
   ]
  },
  {
   "cell_type": "markdown",
   "id": "50639a4d",
   "metadata": {},
   "source": [
    "konversi series yang akan digunakan menjadi list lalu akan di cek panjang dari datanya"
   ]
  },
  {
   "cell_type": "code",
   "execution_count": 20,
   "id": "a6f694cb",
   "metadata": {},
   "outputs": [
    {
     "data": {
      "text/plain": [
       "(9742, 9742, 9742)"
      ]
     },
     "execution_count": 20,
     "metadata": {},
     "output_type": "execute_result"
    }
   ],
   "source": [
    "# Konversi series menjadi list\n",
    "movie_id = preparation['movieId'].tolist()\n",
    "title = preparation['title'].tolist()\n",
    "tag = preparation['tag'].tolist()\n",
    "\n",
    "len(movie_id), len(title), len(tag)"
   ]
  },
  {
   "cell_type": "markdown",
   "id": "a727e363",
   "metadata": {},
   "source": [
    "Membuat daragrame baru dari list yang dibuat diatas"
   ]
  },
  {
   "cell_type": "code",
   "execution_count": 21,
   "id": "262352cb",
   "metadata": {},
   "outputs": [
    {
     "data": {
      "text/html": [
       "<div>\n",
       "<style scoped>\n",
       "    .dataframe tbody tr th:only-of-type {\n",
       "        vertical-align: middle;\n",
       "    }\n",
       "\n",
       "    .dataframe tbody tr th {\n",
       "        vertical-align: top;\n",
       "    }\n",
       "\n",
       "    .dataframe thead th {\n",
       "        text-align: right;\n",
       "    }\n",
       "</style>\n",
       "<table border=\"1\" class=\"dataframe\">\n",
       "  <thead>\n",
       "    <tr style=\"text-align: right;\">\n",
       "      <th></th>\n",
       "      <th>id</th>\n",
       "      <th>movie</th>\n",
       "      <th>tag</th>\n",
       "    </tr>\n",
       "  </thead>\n",
       "  <tbody>\n",
       "    <tr>\n",
       "      <th>4532</th>\n",
       "      <td>6718</td>\n",
       "      <td>Gotcha! (1985)</td>\n",
       "      <td>NaN</td>\n",
       "    </tr>\n",
       "    <tr>\n",
       "      <th>5609</th>\n",
       "      <td>27008</td>\n",
       "      <td>From Dusk Till Dawn 2: Texas Blood Money (1999)</td>\n",
       "      <td>NaN</td>\n",
       "    </tr>\n",
       "    <tr>\n",
       "      <th>3665</th>\n",
       "      <td>5047</td>\n",
       "      <td>Kung Pow: Enter the Fist (2002)</td>\n",
       "      <td>NaN</td>\n",
       "    </tr>\n",
       "    <tr>\n",
       "      <th>4237</th>\n",
       "      <td>6178</td>\n",
       "      <td>Patch of Blue, A (1965)</td>\n",
       "      <td>blind</td>\n",
       "    </tr>\n",
       "    <tr>\n",
       "      <th>7692</th>\n",
       "      <td>89678</td>\n",
       "      <td>Northanger Abbey (2007)</td>\n",
       "      <td>NaN</td>\n",
       "    </tr>\n",
       "  </tbody>\n",
       "</table>\n",
       "</div>"
      ],
      "text/plain": [
       "         id                                             movie    tag\n",
       "4532   6718                                    Gotcha! (1985)    NaN\n",
       "5609  27008  From Dusk Till Dawn 2: Texas Blood Money (1999)     NaN\n",
       "3665   5047                   Kung Pow: Enter the Fist (2002)    NaN\n",
       "4237   6178                           Patch of Blue, A (1965)  blind\n",
       "7692  89678                           Northanger Abbey (2007)    NaN"
      ]
     },
     "execution_count": 21,
     "metadata": {},
     "output_type": "execute_result"
    }
   ],
   "source": [
    "# Membuat Dataframe untuk data 'movie_id', 'title', 'tag'\n",
    "movie_new = pd.DataFrame({\n",
    "    'id': movie_id,\n",
    "    'movie': title,\n",
    "    'tag': tag\n",
    "})\n",
    "movie_new.sample(5)"
   ]
  },
  {
   "cell_type": "markdown",
   "id": "01a54792",
   "metadata": {},
   "source": [
    "Cek missing value pada dataframe yang baru dibuat"
   ]
  },
  {
   "cell_type": "code",
   "execution_count": 22,
   "id": "78112aaf",
   "metadata": {},
   "outputs": [
    {
     "data": {
      "text/plain": [
       "(id          0\n",
       " movie       0\n",
       " tag      8170\n",
       " dtype: int64,\n",
       " 9742)"
      ]
     },
     "execution_count": 22,
     "metadata": {},
     "output_type": "execute_result"
    }
   ],
   "source": [
    "# Cek missing Value\n",
    "movie_new.isna().sum(), len(movie_new)"
   ]
  },
  {
   "cell_type": "markdown",
   "id": "283ecfd3",
   "metadata": {},
   "source": [
    "Fill missing value dengan `UnkNown` tag"
   ]
  },
  {
   "cell_type": "code",
   "execution_count": 23,
   "id": "d9fa3660",
   "metadata": {},
   "outputs": [
    {
     "data": {
      "text/html": [
       "<div>\n",
       "<style scoped>\n",
       "    .dataframe tbody tr th:only-of-type {\n",
       "        vertical-align: middle;\n",
       "    }\n",
       "\n",
       "    .dataframe tbody tr th {\n",
       "        vertical-align: top;\n",
       "    }\n",
       "\n",
       "    .dataframe thead th {\n",
       "        text-align: right;\n",
       "    }\n",
       "</style>\n",
       "<table border=\"1\" class=\"dataframe\">\n",
       "  <thead>\n",
       "    <tr style=\"text-align: right;\">\n",
       "      <th></th>\n",
       "      <th>id</th>\n",
       "      <th>movie</th>\n",
       "      <th>tag</th>\n",
       "    </tr>\n",
       "  </thead>\n",
       "  <tbody>\n",
       "    <tr>\n",
       "      <th>3066</th>\n",
       "      <td>4115</td>\n",
       "      <td>Hiding Out (1987)</td>\n",
       "      <td>UnkNown</td>\n",
       "    </tr>\n",
       "    <tr>\n",
       "      <th>5979</th>\n",
       "      <td>36477</td>\n",
       "      <td>Baxter, The (2005)</td>\n",
       "      <td>UnkNown</td>\n",
       "    </tr>\n",
       "    <tr>\n",
       "      <th>3720</th>\n",
       "      <td>5139</td>\n",
       "      <td>Bad News Bears, The (1976)</td>\n",
       "      <td>baseball</td>\n",
       "    </tr>\n",
       "    <tr>\n",
       "      <th>3615</th>\n",
       "      <td>4964</td>\n",
       "      <td>Baran (2001)</td>\n",
       "      <td>UnkNown</td>\n",
       "    </tr>\n",
       "    <tr>\n",
       "      <th>1596</th>\n",
       "      <td>2138</td>\n",
       "      <td>Watership Down (1978)</td>\n",
       "      <td>atmospheric</td>\n",
       "    </tr>\n",
       "  </tbody>\n",
       "</table>\n",
       "</div>"
      ],
      "text/plain": [
       "         id                       movie          tag\n",
       "3066   4115           Hiding Out (1987)      UnkNown\n",
       "5979  36477          Baxter, The (2005)      UnkNown\n",
       "3720   5139  Bad News Bears, The (1976)     baseball\n",
       "3615   4964                Baran (2001)      UnkNown\n",
       "1596   2138       Watership Down (1978)  atmospheric"
      ]
     },
     "execution_count": 23,
     "metadata": {},
     "output_type": "execute_result"
    }
   ],
   "source": [
    "# Mengganti Tag yang tidak ada dengan unknown\n",
    "movie_new.fillna('UnkNown', inplace=True)\n",
    "movie_new.sample(5)"
   ]
  },
  {
   "cell_type": "markdown",
   "id": "250e463a",
   "metadata": {},
   "source": [
    "Menampilkan bar chart dari 10 tag terbanyak (kecuali ta `UnkNown`)"
   ]
  },
  {
   "cell_type": "code",
   "execution_count": 24,
   "id": "5d998d67",
   "metadata": {},
   "outputs": [
    {
     "data": {
      "text/plain": [
       "<Axes: >"
      ]
     },
     "execution_count": 24,
     "metadata": {},
     "output_type": "execute_result"
    },
    {
     "data": {
      "image/png": "[encoded data removed]",
      "text/plain": [
       "<Figure size 640x480 with 1 Axes>"
      ]
     },
     "metadata": {},
     "output_type": "display_data"
    }
   ],
   "source": [
    "# bar chart 10 tag terbanyak\n",
    "movie_new['tag'].value_counts()[1:11].plot(kind='bar')"
   ]
  },
  {
   "cell_type": "markdown",
   "id": "41dfd38a",
   "metadata": {},
   "source": [
    "## 5. Data Preparation"
   ]
  },
  {
   "cell_type": "markdown",
   "id": "a83fc0b9",
   "metadata": {},
   "source": [
    "### Untuk Content Based Filtering"
   ]
  },
  {
   "cell_type": "markdown",
   "id": "93d91870",
   "metadata": {},
   "source": [
    "Untuk content based fiiltering digunakan tfidf sebelum diproses sebelum modelling"
   ]
  },
  {
   "cell_type": "code",
   "execution_count": 25,
   "id": "9e0ae292",
   "metadata": {},
   "outputs": [
    {
     "data": {
      "text/plain": [
       "(9742, 904)"
      ]
     },
     "execution_count": 25,
     "metadata": {},
     "output_type": "execute_result"
    }
   ],
   "source": [
    "# Inisialisasi Tfidf Vectorizer\n",
    "tfidf = TfidfVectorizer()\n",
    "\n",
    "# Transform Matrix hasil dari TFIDF\n",
    "tfidf_matrix = tfidf.fit_transform(movie_new['tag']).todense()\n",
    "tfidf_matrix.shape"
   ]
  },
  {
   "cell_type": "markdown",
   "id": "63adc7fd",
   "metadata": {},
   "source": [
    "List tag yang diolah leh tfidf vectorizer"
   ]
  },
  {
   "cell_type": "code",
   "execution_count": 26,
   "id": "711e0da7",
   "metadata": {},
   "outputs": [
    {
     "data": {
      "text/plain": [
       "array(['06', '1900s', '1920s', '1950s', '1960s', '1970s', '1980s', '2001',\n",
       "       '2d', '70mm', '80', 'aardman', 'abortion', 'about', 'absorbing',\n",
       "       'abstract', 'abuse', 'academy', 'accident', 'acting', 'action',\n",
       "       'actress', 'adam', 'adams', 'addiction', 'adolescence', 'adoption',\n",
       "       'adorable', 'adrien', 'ads', 'adult', 'adultery', 'adventure',\n",
       "       'affleck', 'afghanistan', 'africa', 'agatha', 'aging', 'aids',\n",
       "       'al', 'alcatraz', 'alcoholism', 'alcott', 'alfred', 'aliens',\n",
       "       'allegorical', 'alone', 'alter', 'alternate', 'am', 'amazing',\n",
       "       'america', 'american', 'amish', 'amnesia', 'amtrak', 'amy',\n",
       "       'ancient', 'and', 'andrew', 'android', 'andy', 'animal',\n",
       "       'animation', 'anime', 'anne', 'annoying', 'anthony', 'anti',\n",
       "       'apocalypse', 'apocalyptic', 'appealing', 'aquarium',\n",
       "       'archaeology', 'art', 'arthur', 'artificial', 'artistic', 'arts',\n",
       "       'artsy', 'artwork', 'as', 'assassin', 'assassination', 'astaire',\n",
       "       'asylum', 'at', 'ate', 'atmospheric', 'audience', 'austen',\n",
       "       'austere', 'australia', 'autism', 'available', 'avant', 'aviation',\n",
       "       'award', 'awesome', 'babies', 'baby', 'bad', 'bale', 'ballet',\n",
       "       'ballroom', 'bank', 'baseball', 'based', 'basketball', 'be',\n",
       "       'beat', 'beatles', 'beautiful', 'bee', 'beethoven', 'ben',\n",
       "       'bernard', 'berry', 'best', 'bette', 'bible', 'big', 'biking',\n",
       "       'bill', 'biopic', 'birds', 'bittersweet', 'bizarre', 'black',\n",
       "       'bleak', 'blind', 'blindness', 'bloody', 'bluegrass', 'boksdrama',\n",
       "       'boleyn', 'bombs', 'book', 'books', 'borg', 'boring', 'boxing',\n",
       "       'brad', 'bradbury', 'brainwashing', 'brilliant', 'british',\n",
       "       'britpop', 'broadway', 'brody', 'brolin', 'bronte', 'brooch',\n",
       "       'brothers', 'brutal', 'brutality', 'buck', 'budget', 'bugs',\n",
       "       'building', 'bulow', 'bunny', 'bus', 'business', 'busniess',\n",
       "       'butler', 'byatt', 'cage', 'california', 'cambodia', 'cameo',\n",
       "       'camp', 'can', 'canada', 'cancer', 'capone', 'capote', 'captain',\n",
       "       'carnival', 'casey', 'cash', 'casino', 'cast', 'catholic',\n",
       "       'cattle', 'celebrity', 'cera', 'chan', 'characters', 'charles',\n",
       "       'charlize', 'charlotte', 'cheeky', 'chef', 'chess', 'chick',\n",
       "       'child', 'childish', 'children', 'chile', 'china', 'choreography',\n",
       "       'chris', 'christian', 'christie', 'christmas', 'church', 'cia',\n",
       "       'cinema', 'cinematography', 'circus', 'city', 'civil', 'claims',\n",
       "       'clancy', 'clarke', 'class', 'classic', 'claustrophobic',\n",
       "       'claymation', 'clever', 'cliche', 'climbing', 'clock', 'clousseau',\n",
       "       'coen', 'cold', 'cole', 'college', 'coma', 'comedy', 'comic',\n",
       "       'computers', 'con', 'conan', 'conspiracy', 'contemplative',\n",
       "       'controversial', 'convent', 'coppola', 'corp', 'corrupt',\n",
       "       'corruption', 'costner', 'costume', 'cotillard', 'court',\n",
       "       'courtroom', 'crane', 'crappy', 'creature', 'creepy', 'crichton',\n",
       "       'crime', 'cross', 'crucifixion', 'crude', 'cruel', 'cry', 'cult',\n",
       "       'cusack', 'cyborg', 'cynical', 'dahl', 'dance', 'daniel', 'dark',\n",
       "       'darth', 'dating', 'david', 'davis', 'day', 'deafness', 'death',\n",
       "       'december', 'demons', 'depressing', 'depression', 'dewinter',\n",
       "       'diabetes', 'dialogue', 'dicarpio', 'dickens', 'dingo', 'dinosaur',\n",
       "       'dinosaurs', 'disability', 'disaster', 'disney', 'diving',\n",
       "       'divorce', 'doc', 'doctors', 'documentary', 'dodie', 'dogs',\n",
       "       'doll', 'domestic', 'donkey', 'dorothy', 'douglas', 'downbeat',\n",
       "       'dr', 'drag', 'drama', 'dreamlike', 'dressing', 'drive', 'drug',\n",
       "       'drugs', 'dumas', 'dumpster', 'dvd', 'dystopia', 'earth', 'east',\n",
       "       'ed', 'edith', 'edward', 'ego', 'einstein', 'embarassing',\n",
       "       'emilia', 'emma', 'emotional', 'empire', 'ending', 'endings',\n",
       "       'england', 'enjoyable', 'ensemble', 'enterprise', 'entertainer',\n",
       "       'estate', 'eugene', 'europe', 'evans', 'everyone', 'everything',\n",
       "       'evil', 'ewan', 'ex', 'existential', 'expression', 'eyes',\n",
       "       'factory', 'fairy', 'falling', 'families', 'family', 'fantasy',\n",
       "       'fatalistic', 'father', 'fatherhood', 'favelas', 'fbi', 'feature',\n",
       "       'ferris', 'fetishism', 'fi', 'figure', 'film', 'films', 'fish',\n",
       "       'flick', 'flood', 'food', 'football', 'for', 'forecaster',\n",
       "       'forster', 'france', 'freaks', 'freedom', 'friendship', 'from',\n",
       "       'fu', 'fugitive', 'fun', 'funny', 'future', 'gambling', 'gangs',\n",
       "       'gangster', 'garde', 'garfunkel', 'geeky', 'general', 'generation',\n",
       "       'genocide', 'george', 'ghost', 'ghosts', 'girl', 'gogh', 'gold',\n",
       "       'goldberg', 'golf', 'golfing', 'good', 'gothic', 'governess',\n",
       "       'grace', 'graham', 'great', 'greene', 'grey', 'grisham', 'gulf',\n",
       "       'gun', 'gunfight', 'guy', 'gyllenhaal', 'hal', 'halle',\n",
       "       'halloween', 'hallucinatory', 'hammerstein', 'hammett', 'hannibal',\n",
       "       'harper', 'harris', 'hathaway', 'hawkeye', 'hayworth', 'hearst',\n",
       "       'heartbreaking', 'heartwarming', 'heist', 'hemingway', 'henry',\n",
       "       'hepburn', 'here', 'herman', 'hero', 'high', 'highschool',\n",
       "       'hilarious', 'hinton', 'hip', 'hippies', 'history', 'hit',\n",
       "       'hitchcock', 'hole', 'hollywood', 'holocaust', 'homeless', 'hoop',\n",
       "       'hop', 'hope', 'hopkins', 'hornby', 'horrible', 'horror', 'horses',\n",
       "       'hospital', 'hostage', 'hudson', 'huey', 'hula', 'humor', 'hyde',\n",
       "       'ichabod', 'idolatry', 'ii', 'illness', 'illusions', 'immigrants',\n",
       "       'immigration', 'in', 'incest', 'india', 'indians', 'inigo',\n",
       "       'insanity', 'inspirational', 'insurance', 'intellectual',\n",
       "       'intelligence', 'intelligent', 'intense', 'interesting',\n",
       "       'interracial', 'invisibility', 'ireland', 'irreverent', 'is',\n",
       "       'island', 'istanbul', 'it', 'italy', 'jackie', 'jake', 'james',\n",
       "       'jane', 'japan', 'jared', 'jason', 'jean', 'jekyll', 'john',\n",
       "       'johnny', 'josh', 'joss', 'journalism', 'judaism', 'jungle',\n",
       "       'kaufman', 'kevin', 'kidnapping', 'kids', 'killer', 'king',\n",
       "       'kingsley', 'kirk', 'klingons', 'knights', 'la', 'large', 'last',\n",
       "       'lawyer', 'lawyers', 'lecter', 'lector', 'lee', 'leonardo',\n",
       "       'leopard', 'leto', 'lewis', 'like', 'live', 'lloyd', 'lonesome',\n",
       "       'long', 'loretta', 'loss', 'louisa', 'love', 'lynn', 'macbeth',\n",
       "       'made', 'mafia', 'magic', 'mail', 'male', 'man', 'marathon',\n",
       "       'marion', 'mark', 'marriage', 'martial', 'marx', 'matchmaker',\n",
       "       'mathematics', 'may', 'mcgregor', 'me', 'memory', 'men', 'mental',\n",
       "       'mermaid', 'mice', 'michael', 'middle', 'military', 'miller',\n",
       "       'mindfuck', 'mining', 'mirrors', 'missing', 'missionary',\n",
       "       'mockumentary', 'moldy', 'montoya', 'moon', 'more', 'most',\n",
       "       'motherhood', 'motors', 'mount', 'mountain', 'movie', 'movies',\n",
       "       'moving', 'mozart', 'mrs', 'multiple', 'muppets', 'murder',\n",
       "       'murray', 'music', 'my', 'mystery', 'myth', 'nabokov', 'naivity',\n",
       "       'narrative', 'nasa', 'nazis', 'neill', 'nemo', 'netflix', 'new',\n",
       "       'nick', 'nicolas', 'night', 'nightclub', 'nightmare', 'ninotchka',\n",
       "       'no', 'nominated', 'nora', 'norton', 'nostalgia', 'not', 'notable',\n",
       "       'nuclear', 'nudity', 'nuns', 'obsession', 'ock', 'of', 'ogres',\n",
       "       'oil', 'olympics', 'on', 'once', 'one', 'organization', 'orphans',\n",
       "       'oscar', 'othello', 'overrated', 'pacino', 'pageant', 'painter',\n",
       "       'pan', 'paranoia', 'parenthood', 'passion', 'peace', 'pearl',\n",
       "       'pee', 'penalty', 'personalities', 'personals', 'peter',\n",
       "       'philosophical', 'photography', 'picture', 'pisstake', 'pitt',\n",
       "       'pixar', 'plan', 'plastic', 'play', 'plot', 'poetry', 'polecat',\n",
       "       'police', 'politics', 'pool', 'poor', 'porter', 'post', 'pow',\n",
       "       'power', 'preacher', 'predictable', 'pregnancy', 'prequel',\n",
       "       'president', 'priest', 'prince', 'prison', 'prodigies',\n",
       "       'prostitution', 'provoking', 'psychiatrist', 'psychology',\n",
       "       'psychopaths', 'pudding', 'quakers', 'queue', 'quirky', 'race',\n",
       "       'rachel', 'racism', 'radcliffe', 'radio', 'rape', 'rasicm', 'rat',\n",
       "       'ray', 'real', 'reality', 'really', 'recap', 'reciprocal',\n",
       "       'religion', 'remade', 'remake', 'restaurant', 'reunion', 'revenge',\n",
       "       'rich', 'rita', 'river', 'road', 'roald', 'rob', 'robots', 'rogen',\n",
       "       'rogers', 'romance', 'romantic', 'rome', 'rosebud', 'ruffalo',\n",
       "       'rushmore', 'saint', 'salute', 'samberg', 'samurai', 'sandler',\n",
       "       'satire', 'saturday', 'savannah', 'saw', 'scandal', 'scenario',\n",
       "       'scenery', 'scenes', 'school', 'sci', 'science', 'screwball',\n",
       "       'script', 'seeing', 'seen', 'semitism', 'sequel', 'serial', 'seth',\n",
       "       'seuss', 'sexuality', 'shakespeare', 'shangri', 'shark', 'shaw',\n",
       "       'ships', 'shipwreck', 'short', 'show', 'shrimp', 'siam', 'simon',\n",
       "       'singletons', 'sirk', 'sisterhood', 'sisters', 'skating', 'skiing',\n",
       "       'slasher', 'slick', 'small', 'smart', 'smith', 'snl', 'soccer',\n",
       "       'sofia', 'something', 'sort', 'south', 'southern', 'space',\n",
       "       'spaghetti', 'spectator', 'spelling', 'spiders', 'spies', 'spoof',\n",
       "       'sports', 'spying', 'stage', 'stand', 'stapler', 'star', 'start',\n",
       "       'state', 'station', 'statue', 'stephen', 'stiller', 'story',\n",
       "       'storylines', 'stranded', 'strangers', 'submarine', 'subway',\n",
       "       'superhero', 'supporting', 'surfing', 'surgery', 'surreal',\n",
       "       'survival', 'suspense', 'swashbuckler', 'tag', 'tales', 'teachers',\n",
       "       'teenagers', 'television', 'tennessee', 'terminal', 'terrorism',\n",
       "       'test', 'than', 'thanksgiving', 'the', 'theater', 'theron',\n",
       "       'thewlis', 'this', 'thompson', 'thought', 'threesome', 'time',\n",
       "       'titanic', 'to', 'tobacco', 'tolkein', 'tolstoy', 'tom', 'too',\n",
       "       'top', 'towns', 'tracy', 'train', 'trains', 'transplants',\n",
       "       'transvestite', 'travel', 'trek', 'trip', 'truckers', 'true',\n",
       "       'truman', 'tv', 'twins', 'twist', 'ummarti2006', 'underestimated',\n",
       "       'union', 'universe', 'unknown', 'up', 'us', 'vader', 'vampire',\n",
       "       'vampires', 'van', 'vertriloquism', 'veterinarian', 'vietnam',\n",
       "       'violence', 'virginity', 'virtual', 'visually', 'visuals', 'von',\n",
       "       'voyeurism', 'want', 'wapendrama', 'war', 'wave', 'way', 'weather',\n",
       "       'weber', 'wedding', 'wee', 'weisz', 'werewolf', 'western',\n",
       "       'whales', 'wharton', 'whedon', 'wheel', 'whimsical', 'white',\n",
       "       'whoopi', 'wilde', 'williams', 'wine', 'with', 'without', 'world',\n",
       "       'writing', 'york', 'you', 'your', 'zombie', 'zombies'],\n",
       "      dtype=object)"
      ]
     },
     "execution_count": 26,
     "metadata": {},
     "output_type": "execute_result"
    }
   ],
   "source": [
    "# List Tags\n",
    "tfidf.get_feature_names_out()"
   ]
  },
  {
   "cell_type": "markdown",
   "id": "4a783fad",
   "metadata": {},
   "source": [
    "Membuat dataframe hasil dari tfidf dengan tag sebagai kolom dan index "
   ]
  },
  {
   "cell_type": "code",
   "execution_count": 27,
   "id": "296da945",
   "metadata": {},
   "outputs": [
    {
     "data": {
      "text/html": [
       "<div>\n",
       "<style scoped>\n",
       "    .dataframe tbody tr th:only-of-type {\n",
       "        vertical-align: middle;\n",
       "    }\n",
       "\n",
       "    .dataframe tbody tr th {\n",
       "        vertical-align: top;\n",
       "    }\n",
       "\n",
       "    .dataframe thead th {\n",
       "        text-align: right;\n",
       "    }\n",
       "</style>\n",
       "<table border=\"1\" class=\"dataframe\">\n",
       "  <thead>\n",
       "    <tr style=\"text-align: right;\">\n",
       "      <th></th>\n",
       "      <th>06</th>\n",
       "      <th>1900s</th>\n",
       "      <th>1920s</th>\n",
       "      <th>1950s</th>\n",
       "      <th>1960s</th>\n",
       "      <th>1970s</th>\n",
       "      <th>1980s</th>\n",
       "      <th>2001</th>\n",
       "      <th>2d</th>\n",
       "      <th>70mm</th>\n",
       "      <th>...</th>\n",
       "      <th>wine</th>\n",
       "      <th>with</th>\n",
       "      <th>without</th>\n",
       "      <th>world</th>\n",
       "      <th>writing</th>\n",
       "      <th>york</th>\n",
       "      <th>you</th>\n",
       "      <th>your</th>\n",
       "      <th>zombie</th>\n",
       "      <th>zombies</th>\n",
       "    </tr>\n",
       "    <tr>\n",
       "      <th>movie</th>\n",
       "      <th></th>\n",
       "      <th></th>\n",
       "      <th></th>\n",
       "      <th></th>\n",
       "      <th></th>\n",
       "      <th></th>\n",
       "      <th></th>\n",
       "      <th></th>\n",
       "      <th></th>\n",
       "      <th></th>\n",
       "      <th></th>\n",
       "      <th></th>\n",
       "      <th></th>\n",
       "      <th></th>\n",
       "      <th></th>\n",
       "      <th></th>\n",
       "      <th></th>\n",
       "      <th></th>\n",
       "      <th></th>\n",
       "      <th></th>\n",
       "      <th></th>\n",
       "    </tr>\n",
       "  </thead>\n",
       "  <tbody>\n",
       "    <tr>\n",
       "      <th>Stuart Little 3: Call of the Wild (2005)</th>\n",
       "      <td>0.0</td>\n",
       "      <td>0.0</td>\n",
       "      <td>0.0</td>\n",
       "      <td>0.0</td>\n",
       "      <td>0.0</td>\n",
       "      <td>0.0</td>\n",
       "      <td>0.0</td>\n",
       "      <td>0.0</td>\n",
       "      <td>0.0</td>\n",
       "      <td>0.0</td>\n",
       "      <td>...</td>\n",
       "      <td>0.0</td>\n",
       "      <td>0.0</td>\n",
       "      <td>0.0</td>\n",
       "      <td>0.0</td>\n",
       "      <td>0.0</td>\n",
       "      <td>0.0</td>\n",
       "      <td>0.0</td>\n",
       "      <td>0.0</td>\n",
       "      <td>0.0</td>\n",
       "      <td>0.0</td>\n",
       "    </tr>\n",
       "    <tr>\n",
       "      <th>Sorry, Wrong Number (1948)</th>\n",
       "      <td>0.0</td>\n",
       "      <td>0.0</td>\n",
       "      <td>0.0</td>\n",
       "      <td>0.0</td>\n",
       "      <td>0.0</td>\n",
       "      <td>0.0</td>\n",
       "      <td>0.0</td>\n",
       "      <td>0.0</td>\n",
       "      <td>0.0</td>\n",
       "      <td>0.0</td>\n",
       "      <td>...</td>\n",
       "      <td>0.0</td>\n",
       "      <td>0.0</td>\n",
       "      <td>0.0</td>\n",
       "      <td>0.0</td>\n",
       "      <td>0.0</td>\n",
       "      <td>0.0</td>\n",
       "      <td>0.0</td>\n",
       "      <td>0.0</td>\n",
       "      <td>0.0</td>\n",
       "      <td>0.0</td>\n",
       "    </tr>\n",
       "    <tr>\n",
       "      <th>People Will Talk (1951)</th>\n",
       "      <td>0.0</td>\n",
       "      <td>0.0</td>\n",
       "      <td>0.0</td>\n",
       "      <td>0.0</td>\n",
       "      <td>0.0</td>\n",
       "      <td>0.0</td>\n",
       "      <td>0.0</td>\n",
       "      <td>0.0</td>\n",
       "      <td>0.0</td>\n",
       "      <td>0.0</td>\n",
       "      <td>...</td>\n",
       "      <td>0.0</td>\n",
       "      <td>0.0</td>\n",
       "      <td>0.0</td>\n",
       "      <td>0.0</td>\n",
       "      <td>0.0</td>\n",
       "      <td>0.0</td>\n",
       "      <td>0.0</td>\n",
       "      <td>0.0</td>\n",
       "      <td>0.0</td>\n",
       "      <td>0.0</td>\n",
       "    </tr>\n",
       "    <tr>\n",
       "      <th>Old Boy (2003)</th>\n",
       "      <td>0.0</td>\n",
       "      <td>0.0</td>\n",
       "      <td>0.0</td>\n",
       "      <td>0.0</td>\n",
       "      <td>0.0</td>\n",
       "      <td>0.0</td>\n",
       "      <td>0.0</td>\n",
       "      <td>0.0</td>\n",
       "      <td>0.0</td>\n",
       "      <td>0.0</td>\n",
       "      <td>...</td>\n",
       "      <td>0.0</td>\n",
       "      <td>0.0</td>\n",
       "      <td>0.0</td>\n",
       "      <td>0.0</td>\n",
       "      <td>0.0</td>\n",
       "      <td>0.0</td>\n",
       "      <td>0.0</td>\n",
       "      <td>0.0</td>\n",
       "      <td>0.0</td>\n",
       "      <td>0.0</td>\n",
       "    </tr>\n",
       "    <tr>\n",
       "      <th>Chorus, The (Choristes, Les) (2004)</th>\n",
       "      <td>0.0</td>\n",
       "      <td>0.0</td>\n",
       "      <td>0.0</td>\n",
       "      <td>0.0</td>\n",
       "      <td>0.0</td>\n",
       "      <td>0.0</td>\n",
       "      <td>0.0</td>\n",
       "      <td>0.0</td>\n",
       "      <td>0.0</td>\n",
       "      <td>0.0</td>\n",
       "      <td>...</td>\n",
       "      <td>0.0</td>\n",
       "      <td>0.0</td>\n",
       "      <td>0.0</td>\n",
       "      <td>0.0</td>\n",
       "      <td>0.0</td>\n",
       "      <td>0.0</td>\n",
       "      <td>0.0</td>\n",
       "      <td>0.0</td>\n",
       "      <td>0.0</td>\n",
       "      <td>0.0</td>\n",
       "    </tr>\n",
       "  </tbody>\n",
       "</table>\n",
       "<p>5 rows × 904 columns</p>\n",
       "</div>"
      ],
      "text/plain": [
       "                                           06  1900s  1920s  1950s  1960s  \\\n",
       "movie                                                                       \n",
       "Stuart Little 3: Call of the Wild (2005)  0.0    0.0    0.0    0.0    0.0   \n",
       "Sorry, Wrong Number (1948)                0.0    0.0    0.0    0.0    0.0   \n",
       "People Will Talk (1951)                   0.0    0.0    0.0    0.0    0.0   \n",
       "Old Boy (2003)                            0.0    0.0    0.0    0.0    0.0   \n",
       "Chorus, The (Choristes, Les) (2004)       0.0    0.0    0.0    0.0    0.0   \n",
       "\n",
       "                                          1970s  1980s  2001   2d  70mm  ...  \\\n",
       "movie                                                                    ...   \n",
       "Stuart Little 3: Call of the Wild (2005)    0.0    0.0   0.0  0.0   0.0  ...   \n",
       "Sorry, Wrong Number (1948)                  0.0    0.0   0.0  0.0   0.0  ...   \n",
       "People Will Talk (1951)                     0.0    0.0   0.0  0.0   0.0  ...   \n",
       "Old Boy (2003)                              0.0    0.0   0.0  0.0   0.0  ...   \n",
       "Chorus, The (Choristes, Les) (2004)         0.0    0.0   0.0  0.0   0.0  ...   \n",
       "\n",
       "                                          wine  with  without  world  writing  \\\n",
       "movie                                                                           \n",
       "Stuart Little 3: Call of the Wild (2005)   0.0   0.0      0.0    0.0      0.0   \n",
       "Sorry, Wrong Number (1948)                 0.0   0.0      0.0    0.0      0.0   \n",
       "People Will Talk (1951)                    0.0   0.0      0.0    0.0      0.0   \n",
       "Old Boy (2003)                             0.0   0.0      0.0    0.0      0.0   \n",
       "Chorus, The (Choristes, Les) (2004)        0.0   0.0      0.0    0.0      0.0   \n",
       "\n",
       "                                          york  you  your  zombie  zombies  \n",
       "movie                                                                       \n",
       "Stuart Little 3: Call of the Wild (2005)   0.0  0.0   0.0     0.0      0.0  \n",
       "Sorry, Wrong Number (1948)                 0.0  0.0   0.0     0.0      0.0  \n",
       "People Will Talk (1951)                    0.0  0.0   0.0     0.0      0.0  \n",
       "Old Boy (2003)                             0.0  0.0   0.0     0.0      0.0  \n",
       "Chorus, The (Choristes, Les) (2004)        0.0  0.0   0.0     0.0      0.0  \n",
       "\n",
       "[5 rows x 904 columns]"
      ]
     },
     "execution_count": 27,
     "metadata": {},
     "output_type": "execute_result"
    }
   ],
   "source": [
    "# Membuat DataFrame hasil tfidf\n",
    "df = pd.DataFrame(tfidf_matrix,\n",
    "                  columns=tfidf.get_feature_names_out(), \n",
    "                  index=movie_new['movie'])\n",
    "df.sample(5)"
   ]
  },
  {
   "cell_type": "markdown",
   "id": "e0c6fa1a",
   "metadata": {},
   "source": [
    "### Untuk Collaborative Filtering"
   ]
  },
  {
   "cell_type": "markdown",
   "id": "830aec38",
   "metadata": {},
   "source": [
    "Untuk collaborative filtering akan dilakukan dengan user-based, dataset yang digunakan yaitu movies dan ratings"
   ]
  },
  {
   "cell_type": "code",
   "execution_count": 28,
   "id": "9d9f6697",
   "metadata": {},
   "outputs": [
    {
     "data": {
      "text/html": [
       "<div>\n",
       "<style scoped>\n",
       "    .dataframe tbody tr th:only-of-type {\n",
       "        vertical-align: middle;\n",
       "    }\n",
       "\n",
       "    .dataframe tbody tr th {\n",
       "        vertical-align: top;\n",
       "    }\n",
       "\n",
       "    .dataframe thead th {\n",
       "        text-align: right;\n",
       "    }\n",
       "</style>\n",
       "<table border=\"1\" class=\"dataframe\">\n",
       "  <thead>\n",
       "    <tr style=\"text-align: right;\">\n",
       "      <th></th>\n",
       "      <th>movieId</th>\n",
       "      <th>title</th>\n",
       "      <th>genres</th>\n",
       "      <th>userId</th>\n",
       "      <th>rating</th>\n",
       "      <th>timestamp</th>\n",
       "    </tr>\n",
       "  </thead>\n",
       "  <tbody>\n",
       "    <tr>\n",
       "      <th>0</th>\n",
       "      <td>1</td>\n",
       "      <td>Toy Story (1995)</td>\n",
       "      <td>Adventure|Animation|Children|Comedy|Fantasy</td>\n",
       "      <td>1.0</td>\n",
       "      <td>4.0</td>\n",
       "      <td>9.649827e+08</td>\n",
       "    </tr>\n",
       "    <tr>\n",
       "      <th>1</th>\n",
       "      <td>1</td>\n",
       "      <td>Toy Story (1995)</td>\n",
       "      <td>Adventure|Animation|Children|Comedy|Fantasy</td>\n",
       "      <td>5.0</td>\n",
       "      <td>4.0</td>\n",
       "      <td>8.474350e+08</td>\n",
       "    </tr>\n",
       "    <tr>\n",
       "      <th>2</th>\n",
       "      <td>1</td>\n",
       "      <td>Toy Story (1995)</td>\n",
       "      <td>Adventure|Animation|Children|Comedy|Fantasy</td>\n",
       "      <td>7.0</td>\n",
       "      <td>4.5</td>\n",
       "      <td>1.106636e+09</td>\n",
       "    </tr>\n",
       "    <tr>\n",
       "      <th>3</th>\n",
       "      <td>1</td>\n",
       "      <td>Toy Story (1995)</td>\n",
       "      <td>Adventure|Animation|Children|Comedy|Fantasy</td>\n",
       "      <td>15.0</td>\n",
       "      <td>2.5</td>\n",
       "      <td>1.510578e+09</td>\n",
       "    </tr>\n",
       "    <tr>\n",
       "      <th>4</th>\n",
       "      <td>1</td>\n",
       "      <td>Toy Story (1995)</td>\n",
       "      <td>Adventure|Animation|Children|Comedy|Fantasy</td>\n",
       "      <td>17.0</td>\n",
       "      <td>4.5</td>\n",
       "      <td>1.305696e+09</td>\n",
       "    </tr>\n",
       "  </tbody>\n",
       "</table>\n",
       "</div>"
      ],
      "text/plain": [
       "   movieId             title                                       genres  \\\n",
       "0        1  Toy Story (1995)  Adventure|Animation|Children|Comedy|Fantasy   \n",
       "1        1  Toy Story (1995)  Adventure|Animation|Children|Comedy|Fantasy   \n",
       "2        1  Toy Story (1995)  Adventure|Animation|Children|Comedy|Fantasy   \n",
       "3        1  Toy Story (1995)  Adventure|Animation|Children|Comedy|Fantasy   \n",
       "4        1  Toy Story (1995)  Adventure|Animation|Children|Comedy|Fantasy   \n",
       "\n",
       "   userId  rating     timestamp  \n",
       "0     1.0     4.0  9.649827e+08  \n",
       "1     5.0     4.0  8.474350e+08  \n",
       "2     7.0     4.5  1.106636e+09  \n",
       "3    15.0     2.5  1.510578e+09  \n",
       "4    17.0     4.5  1.305696e+09  "
      ]
     },
     "execution_count": 28,
     "metadata": {},
     "output_type": "execute_result"
    }
   ],
   "source": [
    "# Menyiapkan Rating movie dataframe\n",
    "rating_movie_df = movies_df.merge(ratings_df, on='movieId', how='left')\n",
    "rating_movie_df.head()"
   ]
  },
  {
   "cell_type": "markdown",
   "id": "5d2cedba",
   "metadata": {},
   "source": [
    "Cek missing value pada dataframe tersebut"
   ]
  },
  {
   "cell_type": "code",
   "execution_count": 29,
   "id": "6e9102c2",
   "metadata": {},
   "outputs": [
    {
     "data": {
      "text/plain": [
       "movieId       0\n",
       "title         0\n",
       "genres        0\n",
       "userId       18\n",
       "rating       18\n",
       "timestamp    18\n",
       "dtype: int64"
      ]
     },
     "execution_count": 29,
     "metadata": {},
     "output_type": "execute_result"
    }
   ],
   "source": [
    "# Cek Missing Value\n",
    "rating_movie_df.isna().sum()"
   ]
  },
  {
   "cell_type": "markdown",
   "id": "201ad901",
   "metadata": {},
   "source": [
    "menghapus missing value pada dataframe"
   ]
  },
  {
   "cell_type": "code",
   "execution_count": 30,
   "id": "12ddeeb9",
   "metadata": {},
   "outputs": [],
   "source": [
    "# Menghapus Missing Value\n",
    "rating_movie_df.dropna(inplace=True)"
   ]
  },
  {
   "cell_type": "markdown",
   "id": "a2b64e26",
   "metadata": {},
   "source": [
    "Membuang fitur `genres` dan `timestamp`"
   ]
  },
  {
   "cell_type": "code",
   "execution_count": 31,
   "id": "66a2b97d",
   "metadata": {},
   "outputs": [
    {
     "data": {
      "text/html": [
       "<div>\n",
       "<style scoped>\n",
       "    .dataframe tbody tr th:only-of-type {\n",
       "        vertical-align: middle;\n",
       "    }\n",
       "\n",
       "    .dataframe tbody tr th {\n",
       "        vertical-align: top;\n",
       "    }\n",
       "\n",
       "    .dataframe thead th {\n",
       "        text-align: right;\n",
       "    }\n",
       "</style>\n",
       "<table border=\"1\" class=\"dataframe\">\n",
       "  <thead>\n",
       "    <tr style=\"text-align: right;\">\n",
       "      <th></th>\n",
       "      <th>movieId</th>\n",
       "      <th>title</th>\n",
       "      <th>userId</th>\n",
       "      <th>rating</th>\n",
       "    </tr>\n",
       "  </thead>\n",
       "  <tbody>\n",
       "    <tr>\n",
       "      <th>0</th>\n",
       "      <td>1</td>\n",
       "      <td>Toy Story (1995)</td>\n",
       "      <td>1.0</td>\n",
       "      <td>4.0</td>\n",
       "    </tr>\n",
       "    <tr>\n",
       "      <th>1</th>\n",
       "      <td>1</td>\n",
       "      <td>Toy Story (1995)</td>\n",
       "      <td>5.0</td>\n",
       "      <td>4.0</td>\n",
       "    </tr>\n",
       "    <tr>\n",
       "      <th>2</th>\n",
       "      <td>1</td>\n",
       "      <td>Toy Story (1995)</td>\n",
       "      <td>7.0</td>\n",
       "      <td>4.5</td>\n",
       "    </tr>\n",
       "    <tr>\n",
       "      <th>3</th>\n",
       "      <td>1</td>\n",
       "      <td>Toy Story (1995)</td>\n",
       "      <td>15.0</td>\n",
       "      <td>2.5</td>\n",
       "    </tr>\n",
       "    <tr>\n",
       "      <th>4</th>\n",
       "      <td>1</td>\n",
       "      <td>Toy Story (1995)</td>\n",
       "      <td>17.0</td>\n",
       "      <td>4.5</td>\n",
       "    </tr>\n",
       "  </tbody>\n",
       "</table>\n",
       "</div>"
      ],
      "text/plain": [
       "   movieId             title  userId  rating\n",
       "0        1  Toy Story (1995)     1.0     4.0\n",
       "1        1  Toy Story (1995)     5.0     4.0\n",
       "2        1  Toy Story (1995)     7.0     4.5\n",
       "3        1  Toy Story (1995)    15.0     2.5\n",
       "4        1  Toy Story (1995)    17.0     4.5"
      ]
     },
     "execution_count": 31,
     "metadata": {},
     "output_type": "execute_result"
    }
   ],
   "source": [
    "# Membuang data yg tidak diperlukan\n",
    "rating_movie_df.drop(['genres', 'timestamp'], axis=1, inplace=True)\n",
    "\n",
    "rating_movie_df.head()"
   ]
  },
  {
   "cell_type": "markdown",
   "id": "2886bfb1",
   "metadata": {},
   "source": [
    "## 7. Modelling"
   ]
  },
  {
   "cell_type": "markdown",
   "id": "77ee2831",
   "metadata": {},
   "source": [
    "### Dengan Cosine Similarity"
   ]
  },
  {
   "cell_type": "markdown",
   "id": "c9b0a8a3",
   "metadata": {},
   "source": [
    "Membuat variable cosine similarity dari hasil tfidf diatas"
   ]
  },
  {
   "cell_type": "code",
   "execution_count": 32,
   "id": "612ba635",
   "metadata": {},
   "outputs": [
    {
     "data": {
      "text/plain": [
       "(array([[1., 0., 0., ..., 0., 0., 0.],\n",
       "        [0., 1., 0., ..., 0., 0., 0.],\n",
       "        [0., 0., 1., ..., 0., 0., 0.],\n",
       "        ...,\n",
       "        [0., 0., 0., ..., 1., 1., 1.],\n",
       "        [0., 0., 0., ..., 1., 1., 1.],\n",
       "        [0., 0., 0., ..., 1., 1., 1.]]),\n",
       " (9742, 9742))"
      ]
     },
     "execution_count": 32,
     "metadata": {},
     "output_type": "execute_result"
    }
   ],
   "source": [
    "# Menghitung cosine similarity \n",
    "cosine_sim = cosine_similarity(np.array(tfidf_matrix)) \n",
    "cosine_sim, cosine_sim.shape"
   ]
  },
  {
   "cell_type": "markdown",
   "id": "d7e0429d",
   "metadata": {},
   "source": [
    "Membuat dataframe baru dari hasil cosine similarity dengan movie sebagai index dan kolom"
   ]
  },
  {
   "cell_type": "code",
   "execution_count": 33,
   "id": "a0cc01cb",
   "metadata": {},
   "outputs": [
    {
     "data": {
      "text/html": [
       "<div>\n",
       "<style scoped>\n",
       "    .dataframe tbody tr th:only-of-type {\n",
       "        vertical-align: middle;\n",
       "    }\n",
       "\n",
       "    .dataframe tbody tr th {\n",
       "        vertical-align: top;\n",
       "    }\n",
       "\n",
       "    .dataframe thead th {\n",
       "        text-align: right;\n",
       "    }\n",
       "</style>\n",
       "<table border=\"1\" class=\"dataframe\">\n",
       "  <thead>\n",
       "    <tr style=\"text-align: right;\">\n",
       "      <th>movie</th>\n",
       "      <th>Toy Story (1995)</th>\n",
       "      <th>Jumanji (1995)</th>\n",
       "      <th>Grumpier Old Men (1995)</th>\n",
       "      <th>Waiting to Exhale (1995)</th>\n",
       "      <th>Father of the Bride Part II (1995)</th>\n",
       "      <th>Heat (1995)</th>\n",
       "      <th>Sabrina (1995)</th>\n",
       "      <th>Tom and Huck (1995)</th>\n",
       "      <th>Sudden Death (1995)</th>\n",
       "      <th>GoldenEye (1995)</th>\n",
       "      <th>...</th>\n",
       "      <th>Gintama: The Movie (2010)</th>\n",
       "      <th>anohana: The Flower We Saw That Day - The Movie (2013)</th>\n",
       "      <th>Silver Spoon (2014)</th>\n",
       "      <th>Love Live! The School Idol Movie (2015)</th>\n",
       "      <th>Jon Stewart Has Left the Building (2015)</th>\n",
       "      <th>Black Butler: Book of the Atlantic (2017)</th>\n",
       "      <th>No Game No Life: Zero (2017)</th>\n",
       "      <th>Flint (2017)</th>\n",
       "      <th>Bungo Stray Dogs: Dead Apple (2018)</th>\n",
       "      <th>Andrew Dice Clay: Dice Rules (1991)</th>\n",
       "    </tr>\n",
       "    <tr>\n",
       "      <th>movie</th>\n",
       "      <th></th>\n",
       "      <th></th>\n",
       "      <th></th>\n",
       "      <th></th>\n",
       "      <th></th>\n",
       "      <th></th>\n",
       "      <th></th>\n",
       "      <th></th>\n",
       "      <th></th>\n",
       "      <th></th>\n",
       "      <th></th>\n",
       "      <th></th>\n",
       "      <th></th>\n",
       "      <th></th>\n",
       "      <th></th>\n",
       "      <th></th>\n",
       "      <th></th>\n",
       "      <th></th>\n",
       "      <th></th>\n",
       "      <th></th>\n",
       "      <th></th>\n",
       "    </tr>\n",
       "  </thead>\n",
       "  <tbody>\n",
       "    <tr>\n",
       "      <th>Exam (2009)</th>\n",
       "      <td>0.0</td>\n",
       "      <td>0.0</td>\n",
       "      <td>0.0</td>\n",
       "      <td>1.0</td>\n",
       "      <td>0.0</td>\n",
       "      <td>1.0</td>\n",
       "      <td>0.0</td>\n",
       "      <td>1.0</td>\n",
       "      <td>1.0</td>\n",
       "      <td>1.0</td>\n",
       "      <td>...</td>\n",
       "      <td>0.0</td>\n",
       "      <td>1.0</td>\n",
       "      <td>1.0</td>\n",
       "      <td>1.0</td>\n",
       "      <td>1.0</td>\n",
       "      <td>1.0</td>\n",
       "      <td>1.0</td>\n",
       "      <td>1.0</td>\n",
       "      <td>1.0</td>\n",
       "      <td>1.0</td>\n",
       "    </tr>\n",
       "    <tr>\n",
       "      <th>Sex and Lucia (Lucía y el sexo) (2001)</th>\n",
       "      <td>0.0</td>\n",
       "      <td>0.0</td>\n",
       "      <td>0.0</td>\n",
       "      <td>1.0</td>\n",
       "      <td>0.0</td>\n",
       "      <td>1.0</td>\n",
       "      <td>0.0</td>\n",
       "      <td>1.0</td>\n",
       "      <td>1.0</td>\n",
       "      <td>1.0</td>\n",
       "      <td>...</td>\n",
       "      <td>0.0</td>\n",
       "      <td>1.0</td>\n",
       "      <td>1.0</td>\n",
       "      <td>1.0</td>\n",
       "      <td>1.0</td>\n",
       "      <td>1.0</td>\n",
       "      <td>1.0</td>\n",
       "      <td>1.0</td>\n",
       "      <td>1.0</td>\n",
       "      <td>1.0</td>\n",
       "    </tr>\n",
       "    <tr>\n",
       "      <th>Miss Meadows (2014)</th>\n",
       "      <td>0.0</td>\n",
       "      <td>0.0</td>\n",
       "      <td>0.0</td>\n",
       "      <td>1.0</td>\n",
       "      <td>0.0</td>\n",
       "      <td>1.0</td>\n",
       "      <td>0.0</td>\n",
       "      <td>1.0</td>\n",
       "      <td>1.0</td>\n",
       "      <td>1.0</td>\n",
       "      <td>...</td>\n",
       "      <td>0.0</td>\n",
       "      <td>1.0</td>\n",
       "      <td>1.0</td>\n",
       "      <td>1.0</td>\n",
       "      <td>1.0</td>\n",
       "      <td>1.0</td>\n",
       "      <td>1.0</td>\n",
       "      <td>1.0</td>\n",
       "      <td>1.0</td>\n",
       "      <td>1.0</td>\n",
       "    </tr>\n",
       "    <tr>\n",
       "      <th>Mom and Dad Save the World (1992)</th>\n",
       "      <td>0.0</td>\n",
       "      <td>0.0</td>\n",
       "      <td>0.0</td>\n",
       "      <td>1.0</td>\n",
       "      <td>0.0</td>\n",
       "      <td>1.0</td>\n",
       "      <td>0.0</td>\n",
       "      <td>1.0</td>\n",
       "      <td>1.0</td>\n",
       "      <td>1.0</td>\n",
       "      <td>...</td>\n",
       "      <td>0.0</td>\n",
       "      <td>1.0</td>\n",
       "      <td>1.0</td>\n",
       "      <td>1.0</td>\n",
       "      <td>1.0</td>\n",
       "      <td>1.0</td>\n",
       "      <td>1.0</td>\n",
       "      <td>1.0</td>\n",
       "      <td>1.0</td>\n",
       "      <td>1.0</td>\n",
       "    </tr>\n",
       "    <tr>\n",
       "      <th>Wild Bunch, The (1969)</th>\n",
       "      <td>0.0</td>\n",
       "      <td>0.0</td>\n",
       "      <td>0.0</td>\n",
       "      <td>1.0</td>\n",
       "      <td>0.0</td>\n",
       "      <td>1.0</td>\n",
       "      <td>0.0</td>\n",
       "      <td>1.0</td>\n",
       "      <td>1.0</td>\n",
       "      <td>1.0</td>\n",
       "      <td>...</td>\n",
       "      <td>0.0</td>\n",
       "      <td>1.0</td>\n",
       "      <td>1.0</td>\n",
       "      <td>1.0</td>\n",
       "      <td>1.0</td>\n",
       "      <td>1.0</td>\n",
       "      <td>1.0</td>\n",
       "      <td>1.0</td>\n",
       "      <td>1.0</td>\n",
       "      <td>1.0</td>\n",
       "    </tr>\n",
       "  </tbody>\n",
       "</table>\n",
       "<p>5 rows × 9742 columns</p>\n",
       "</div>"
      ],
      "text/plain": [
       "movie                                   Toy Story (1995)  Jumanji (1995)  \\\n",
       "movie                                                                      \n",
       "Exam (2009)                                          0.0             0.0   \n",
       "Sex and Lucia (Lucía y el sexo) (2001)               0.0             0.0   \n",
       "Miss Meadows (2014)                                  0.0             0.0   \n",
       "Mom and Dad Save the World (1992)                    0.0             0.0   \n",
       "Wild Bunch, The (1969)                               0.0             0.0   \n",
       "\n",
       "movie                                   Grumpier Old Men (1995)  \\\n",
       "movie                                                             \n",
       "Exam (2009)                                                 0.0   \n",
       "Sex and Lucia (Lucía y el sexo) (2001)                      0.0   \n",
       "Miss Meadows (2014)                                         0.0   \n",
       "Mom and Dad Save the World (1992)                           0.0   \n",
       "Wild Bunch, The (1969)                                      0.0   \n",
       "\n",
       "movie                                   Waiting to Exhale (1995)  \\\n",
       "movie                                                              \n",
       "Exam (2009)                                                  1.0   \n",
       "Sex and Lucia (Lucía y el sexo) (2001)                       1.0   \n",
       "Miss Meadows (2014)                                          1.0   \n",
       "Mom and Dad Save the World (1992)                            1.0   \n",
       "Wild Bunch, The (1969)                                       1.0   \n",
       "\n",
       "movie                                   Father of the Bride Part II (1995)  \\\n",
       "movie                                                                        \n",
       "Exam (2009)                                                            0.0   \n",
       "Sex and Lucia (Lucía y el sexo) (2001)                                 0.0   \n",
       "Miss Meadows (2014)                                                    0.0   \n",
       "Mom and Dad Save the World (1992)                                      0.0   \n",
       "Wild Bunch, The (1969)                                                 0.0   \n",
       "\n",
       "movie                                   Heat (1995)  Sabrina (1995)  \\\n",
       "movie                                                                 \n",
       "Exam (2009)                                     1.0             0.0   \n",
       "Sex and Lucia (Lucía y el sexo) (2001)          1.0             0.0   \n",
       "Miss Meadows (2014)                             1.0             0.0   \n",
       "Mom and Dad Save the World (1992)               1.0             0.0   \n",
       "Wild Bunch, The (1969)                          1.0             0.0   \n",
       "\n",
       "movie                                   Tom and Huck (1995)  \\\n",
       "movie                                                         \n",
       "Exam (2009)                                             1.0   \n",
       "Sex and Lucia (Lucía y el sexo) (2001)                  1.0   \n",
       "Miss Meadows (2014)                                     1.0   \n",
       "Mom and Dad Save the World (1992)                       1.0   \n",
       "Wild Bunch, The (1969)                                  1.0   \n",
       "\n",
       "movie                                   Sudden Death (1995)  GoldenEye (1995)  \\\n",
       "movie                                                                           \n",
       "Exam (2009)                                             1.0               1.0   \n",
       "Sex and Lucia (Lucía y el sexo) (2001)                  1.0               1.0   \n",
       "Miss Meadows (2014)                                     1.0               1.0   \n",
       "Mom and Dad Save the World (1992)                       1.0               1.0   \n",
       "Wild Bunch, The (1969)                                  1.0               1.0   \n",
       "\n",
       "movie                                   ...  Gintama: The Movie (2010)  \\\n",
       "movie                                   ...                              \n",
       "Exam (2009)                             ...                        0.0   \n",
       "Sex and Lucia (Lucía y el sexo) (2001)  ...                        0.0   \n",
       "Miss Meadows (2014)                     ...                        0.0   \n",
       "Mom and Dad Save the World (1992)       ...                        0.0   \n",
       "Wild Bunch, The (1969)                  ...                        0.0   \n",
       "\n",
       "movie                                   anohana: The Flower We Saw That Day - The Movie (2013)  \\\n",
       "movie                                                                                            \n",
       "Exam (2009)                                                                           1.0        \n",
       "Sex and Lucia (Lucía y el sexo) (2001)                                                1.0        \n",
       "Miss Meadows (2014)                                                                   1.0        \n",
       "Mom and Dad Save the World (1992)                                                     1.0        \n",
       "Wild Bunch, The (1969)                                                                1.0        \n",
       "\n",
       "movie                                   Silver Spoon (2014)  \\\n",
       "movie                                                         \n",
       "Exam (2009)                                             1.0   \n",
       "Sex and Lucia (Lucía y el sexo) (2001)                  1.0   \n",
       "Miss Meadows (2014)                                     1.0   \n",
       "Mom and Dad Save the World (1992)                       1.0   \n",
       "Wild Bunch, The (1969)                                  1.0   \n",
       "\n",
       "movie                                   Love Live! The School Idol Movie (2015)  \\\n",
       "movie                                                                             \n",
       "Exam (2009)                                                                 1.0   \n",
       "Sex and Lucia (Lucía y el sexo) (2001)                                      1.0   \n",
       "Miss Meadows (2014)                                                         1.0   \n",
       "Mom and Dad Save the World (1992)                                           1.0   \n",
       "Wild Bunch, The (1969)                                                      1.0   \n",
       "\n",
       "movie                                   Jon Stewart Has Left the Building (2015)  \\\n",
       "movie                                                                              \n",
       "Exam (2009)                                                                  1.0   \n",
       "Sex and Lucia (Lucía y el sexo) (2001)                                       1.0   \n",
       "Miss Meadows (2014)                                                          1.0   \n",
       "Mom and Dad Save the World (1992)                                            1.0   \n",
       "Wild Bunch, The (1969)                                                       1.0   \n",
       "\n",
       "movie                                   Black Butler: Book of the Atlantic (2017)  \\\n",
       "movie                                                                               \n",
       "Exam (2009)                                                                   1.0   \n",
       "Sex and Lucia (Lucía y el sexo) (2001)                                        1.0   \n",
       "Miss Meadows (2014)                                                           1.0   \n",
       "Mom and Dad Save the World (1992)                                             1.0   \n",
       "Wild Bunch, The (1969)                                                        1.0   \n",
       "\n",
       "movie                                   No Game No Life: Zero (2017)  \\\n",
       "movie                                                                  \n",
       "Exam (2009)                                                      1.0   \n",
       "Sex and Lucia (Lucía y el sexo) (2001)                           1.0   \n",
       "Miss Meadows (2014)                                              1.0   \n",
       "Mom and Dad Save the World (1992)                                1.0   \n",
       "Wild Bunch, The (1969)                                           1.0   \n",
       "\n",
       "movie                                   Flint (2017)  \\\n",
       "movie                                                  \n",
       "Exam (2009)                                      1.0   \n",
       "Sex and Lucia (Lucía y el sexo) (2001)           1.0   \n",
       "Miss Meadows (2014)                              1.0   \n",
       "Mom and Dad Save the World (1992)                1.0   \n",
       "Wild Bunch, The (1969)                           1.0   \n",
       "\n",
       "movie                                   Bungo Stray Dogs: Dead Apple (2018)  \\\n",
       "movie                                                                         \n",
       "Exam (2009)                                                             1.0   \n",
       "Sex and Lucia (Lucía y el sexo) (2001)                                  1.0   \n",
       "Miss Meadows (2014)                                                     1.0   \n",
       "Mom and Dad Save the World (1992)                                       1.0   \n",
       "Wild Bunch, The (1969)                                                  1.0   \n",
       "\n",
       "movie                                   Andrew Dice Clay: Dice Rules (1991)  \n",
       "movie                                                                        \n",
       "Exam (2009)                                                             1.0  \n",
       "Sex and Lucia (Lucía y el sexo) (2001)                                  1.0  \n",
       "Miss Meadows (2014)                                                     1.0  \n",
       "Mom and Dad Save the World (1992)                                       1.0  \n",
       "Wild Bunch, The (1969)                                                  1.0  \n",
       "\n",
       "[5 rows x 9742 columns]"
      ]
     },
     "execution_count": 33,
     "metadata": {},
     "output_type": "execute_result"
    }
   ],
   "source": [
    "# Membuat Dataframe dari cosine similarity dengan baris dan kolom beruma movies\n",
    "cosine_sim_df = pd.DataFrame(cosine_sim, \n",
    "                             index=movie_new['movie'], \n",
    "                             columns=movie_new['movie'])\n",
    "cosine_sim_df.sample(5)"
   ]
  },
  {
   "cell_type": "markdown",
   "id": "ae86fd87",
   "metadata": {},
   "source": [
    "Membuat fungsi untuk rekomendasi content based filtering"
   ]
  },
  {
   "cell_type": "code",
   "execution_count": 34,
   "id": "281a503f",
   "metadata": {},
   "outputs": [],
   "source": [
    "# Fungsi Mendapatkan Rekomendasi\n",
    "def get_recommendation_cosine(nama_movie, similarity_data=cosine_sim_df, items=movie_new[['movie', 'tag']], k=10):\n",
    "    # Mengambil data dengan menggunakan argpartition \n",
    "    # untuk melakukan partisi secara tidak langsung sepanjang sumbu yang diberikan    \n",
    "    # Dataframe diubah menjadi numpy\n",
    "    # Range(start, stop, step)\n",
    "    index = similarity_data.loc[:,nama_movie].to_numpy().argpartition(\n",
    "        range(-1, -k, -1))\n",
    "    \n",
    "    # Mengambil data dengan similarity terbesar dari index yang ada\n",
    "    closest = similarity_data.columns[index[-1:-(k+2):-1]]\n",
    "    \n",
    "    # Drop nama_movie agar yang dicari tidak muncul dalam daftar rekomendasi\n",
    "    closest = closest.drop(nama_movie, errors='ignore')\n",
    "    \n",
    "    return pd.DataFrame(closest).merge(items.reset_index(drop=True)).head(k)"
   ]
  },
  {
   "cell_type": "markdown",
   "id": "0e460899",
   "metadata": {},
   "source": [
    "Mendapatkan rekomendasi dari `Gintama: The Movie (2010)`"
   ]
  },
  {
   "cell_type": "code",
   "execution_count": 35,
   "id": "38fff23c",
   "metadata": {},
   "outputs": [
    {
     "data": {
      "text/html": [
       "<div>\n",
       "<style scoped>\n",
       "    .dataframe tbody tr th:only-of-type {\n",
       "        vertical-align: middle;\n",
       "    }\n",
       "\n",
       "    .dataframe tbody tr th {\n",
       "        vertical-align: top;\n",
       "    }\n",
       "\n",
       "    .dataframe thead th {\n",
       "        text-align: right;\n",
       "    }\n",
       "</style>\n",
       "<table border=\"1\" class=\"dataframe\">\n",
       "  <thead>\n",
       "    <tr style=\"text-align: right;\">\n",
       "      <th></th>\n",
       "      <th>movie</th>\n",
       "      <th>tag</th>\n",
       "    </tr>\n",
       "  </thead>\n",
       "  <tbody>\n",
       "    <tr>\n",
       "      <th>0</th>\n",
       "      <td>Princess Mononoke (Mononoke-hime) (1997)</td>\n",
       "      <td>anime</td>\n",
       "    </tr>\n",
       "    <tr>\n",
       "      <th>1</th>\n",
       "      <td>Tekkonkinkreet (Tekkon kinkurîto) (2006)</td>\n",
       "      <td>anime</td>\n",
       "    </tr>\n",
       "    <tr>\n",
       "      <th>2</th>\n",
       "      <td>Kiki's Delivery Service (Majo no takkyûbin) (1...</td>\n",
       "      <td>anime</td>\n",
       "    </tr>\n",
       "    <tr>\n",
       "      <th>3</th>\n",
       "      <td>My Neighbor Totoro (Tonari no Totoro) (1988)</td>\n",
       "      <td>anime</td>\n",
       "    </tr>\n",
       "    <tr>\n",
       "      <th>4</th>\n",
       "      <td>Neon Genesis Evangelion: The End of Evangelion...</td>\n",
       "      <td>anime</td>\n",
       "    </tr>\n",
       "    <tr>\n",
       "      <th>5</th>\n",
       "      <td>Laputa: Castle in the Sky (Tenkû no shiro Rapy...</td>\n",
       "      <td>anime</td>\n",
       "    </tr>\n",
       "    <tr>\n",
       "      <th>6</th>\n",
       "      <td>Howl's Moving Castle (Hauru no ugoku shiro) (2...</td>\n",
       "      <td>anime</td>\n",
       "    </tr>\n",
       "    <tr>\n",
       "      <th>7</th>\n",
       "      <td>Spirited Away (Sen to Chihiro no kamikakushi) ...</td>\n",
       "      <td>anime</td>\n",
       "    </tr>\n",
       "    <tr>\n",
       "      <th>8</th>\n",
       "      <td>Lost and Delirious (2001)</td>\n",
       "      <td>UnkNown</td>\n",
       "    </tr>\n",
       "    <tr>\n",
       "      <th>9</th>\n",
       "      <td>Kiss of the Dragon (2001)</td>\n",
       "      <td>UnkNown</td>\n",
       "    </tr>\n",
       "  </tbody>\n",
       "</table>\n",
       "</div>"
      ],
      "text/plain": [
       "                                               movie      tag\n",
       "0           Princess Mononoke (Mononoke-hime) (1997)    anime\n",
       "1           Tekkonkinkreet (Tekkon kinkurîto) (2006)    anime\n",
       "2  Kiki's Delivery Service (Majo no takkyûbin) (1...    anime\n",
       "3       My Neighbor Totoro (Tonari no Totoro) (1988)    anime\n",
       "4  Neon Genesis Evangelion: The End of Evangelion...    anime\n",
       "5  Laputa: Castle in the Sky (Tenkû no shiro Rapy...    anime\n",
       "6  Howl's Moving Castle (Hauru no ugoku shiro) (2...    anime\n",
       "7  Spirited Away (Sen to Chihiro no kamikakushi) ...    anime\n",
       "8                          Lost and Delirious (2001)  UnkNown\n",
       "9                          Kiss of the Dragon (2001)  UnkNown"
      ]
     },
     "execution_count": 35,
     "metadata": {},
     "output_type": "execute_result"
    }
   ],
   "source": [
    "# Pemanggilan fungsi rekomendasi dengan Cosine similarity\n",
    "get_recommendation_cosine('Gintama: The Movie (2010)')"
   ]
  },
  {
   "cell_type": "markdown",
   "id": "690cfb8b",
   "metadata": {},
   "source": [
    "### Dengan KNN"
   ]
  },
  {
   "cell_type": "markdown",
   "id": "e8c55977",
   "metadata": {},
   "source": [
    "Menginisialisasi model NearestNeighbors dengan metric `euclidean` dan melakukan fitting untuk collaborative filtering"
   ]
  },
  {
   "cell_type": "code",
   "execution_count": 36,
   "id": "779269fe",
   "metadata": {},
   "outputs": [
    {
     "data": {
      "text/html": [
       "<style>#sk-container-id-1 {color: black;background-color: white;}#sk-container-id-1 pre{padding: 0;}#sk-container-id-1 div.sk-toggleable {background-color: white;}#sk-container-id-1 label.sk-toggleable__label {cursor: pointer;display: block;width: 100%;margin-bottom: 0;padding: 0.3em;box-sizing: border-box;text-align: center;}#sk-container-id-1 label.sk-toggleable__label-arrow:before {content: \"▸\";float: left;margin-right: 0.25em;color: #696969;}#sk-container-id-1 label.sk-toggleable__label-arrow:hover:before {color: black;}#sk-container-id-1 div.sk-estimator:hover label.sk-toggleable__label-arrow:before {color: black;}#sk-container-id-1 div.sk-toggleable__content {max-height: 0;max-width: 0;overflow: hidden;text-align: left;background-color: #f0f8ff;}#sk-container-id-1 div.sk-toggleable__content pre {margin: 0.2em;color: black;border-radius: 0.25em;background-color: #f0f8ff;}#sk-container-id-1 input.sk-toggleable__control:checked~div.sk-toggleable__content {max-height: 200px;max-width: 100%;overflow: auto;}#sk-container-id-1 input.sk-toggleable__control:checked~label.sk-toggleable__label-arrow:before {content: \"▾\";}#sk-container-id-1 div.sk-estimator input.sk-toggleable__control:checked~label.sk-toggleable__label {background-color: #d4ebff;}#sk-container-id-1 div.sk-label input.sk-toggleable__control:checked~label.sk-toggleable__label {background-color: #d4ebff;}#sk-container-id-1 input.sk-hidden--visually {border: 0;clip: rect(1px 1px 1px 1px);clip: rect(1px, 1px, 1px, 1px);height: 1px;margin: -1px;overflow: hidden;padding: 0;position: absolute;width: 1px;}#sk-container-id-1 div.sk-estimator {font-family: monospace;background-color: #f0f8ff;border: 1px dotted black;border-radius: 0.25em;box-sizing: border-box;margin-bottom: 0.5em;}#sk-container-id-1 div.sk-estimator:hover {background-color: #d4ebff;}#sk-container-id-1 div.sk-parallel-item::after {content: \"\";width: 100%;border-bottom: 1px solid gray;flex-grow: 1;}#sk-container-id-1 div.sk-label:hover label.sk-toggleable__label {background-color: #d4ebff;}#sk-container-id-1 div.sk-serial::before {content: \"\";position: absolute;border-left: 1px solid gray;box-sizing: border-box;top: 0;bottom: 0;left: 50%;z-index: 0;}#sk-container-id-1 div.sk-serial {display: flex;flex-direction: column;align-items: center;background-color: white;padding-right: 0.2em;padding-left: 0.2em;position: relative;}#sk-container-id-1 div.sk-item {position: relative;z-index: 1;}#sk-container-id-1 div.sk-parallel {display: flex;align-items: stretch;justify-content: center;background-color: white;position: relative;}#sk-container-id-1 div.sk-item::before, #sk-container-id-1 div.sk-parallel-item::before {content: \"\";position: absolute;border-left: 1px solid gray;box-sizing: border-box;top: 0;bottom: 0;left: 50%;z-index: -1;}#sk-container-id-1 div.sk-parallel-item {display: flex;flex-direction: column;z-index: 1;position: relative;background-color: white;}#sk-container-id-1 div.sk-parallel-item:first-child::after {align-self: flex-end;width: 50%;}#sk-container-id-1 div.sk-parallel-item:last-child::after {align-self: flex-start;width: 50%;}#sk-container-id-1 div.sk-parallel-item:only-child::after {width: 0;}#sk-container-id-1 div.sk-dashed-wrapped {border: 1px dashed gray;margin: 0 0.4em 0.5em 0.4em;box-sizing: border-box;padding-bottom: 0.4em;background-color: white;}#sk-container-id-1 div.sk-label label {font-family: monospace;font-weight: bold;display: inline-block;line-height: 1.2em;}#sk-container-id-1 div.sk-label-container {text-align: center;}#sk-container-id-1 div.sk-container {/* jupyter's `normalize.less` sets `[hidden] { display: none; }` but bootstrap.min.css set `[hidden] { display: none !important; }` so we also need the `!important` here to be able to override the default hidden behavior on the sphinx rendered scikit-learn.org. See: https://github.com/scikit-learn/scikit-learn/issues/21755 */display: inline-block !important;position: relative;}#sk-container-id-1 div.sk-text-repr-fallback {display: none;}</style><div id=\"sk-container-id-1\" class=\"sk-top-container\"><div class=\"sk-text-repr-fallback\"><pre>NearestNeighbors(metric=&#x27;euclidean&#x27;)</pre><b>In a Jupyter environment, please rerun this cell to show the HTML representation or trust the notebook. <br />On GitHub, the HTML representation is unable to render, please try loading this page with nbviewer.org.</b></div><div class=\"sk-container\" hidden><div class=\"sk-item\"><div class=\"sk-estimator sk-toggleable\"><input class=\"sk-toggleable__control sk-hidden--visually\" id=\"sk-estimator-id-1\" type=\"checkbox\" checked><label for=\"sk-estimator-id-1\" class=\"sk-toggleable__label sk-toggleable__label-arrow\">NearestNeighbors</label><div class=\"sk-toggleable__content\"><pre>NearestNeighbors(metric=&#x27;euclidean&#x27;)</pre></div></div></div></div></div>"
      ],
      "text/plain": [
       "NearestNeighbors(metric='euclidean')"
      ]
     },
     "execution_count": 36,
     "metadata": {},
     "output_type": "execute_result"
    }
   ],
   "source": [
    "# Inisialisasi Model\n",
    "knn = NearestNeighbors(metric='euclidean')\n",
    "\n",
    "# Fitting Data\n",
    "knn.fit(rating_movie_df.drop(['title', 'movieId'], axis=1))"
   ]
  },
  {
   "cell_type": "markdown",
   "id": "d1ba4c97",
   "metadata": {},
   "source": [
    "Membuat fungsi rekomendasi dengan KNN"
   ]
  },
  {
   "cell_type": "code",
   "execution_count": 187,
   "id": "f76d5754",
   "metadata": {},
   "outputs": [],
   "source": [
    "def get_recommendation_knn(nama_movie, top_n=10,data=rating_movie_df):\n",
    "    # Mengambil ID dari items\n",
    "    row = data[data['title'] == nama_movie]\n",
    "    movie_id = row.index.values[0]\n",
    "    inputan = data.drop(['title', 'movieId'], axis=1).loc[movie_id].values.reshape(1, -1)\n",
    "    \n",
    "    # Mencari nilai terdekat (index rating)\n",
    "    distances, neighbors = knn.kneighbors(inputan,\n",
    "                                          n_neighbors=top_n)\n",
    "    # Return Similiar Movie\n",
    "    output = pd.DataFrame(data.loc[neighbors[0], :])\n",
    "    output['distance'] = distances[0]\n",
    "    return output.merge(movie_new, left_on='title', right_on='movie', how='left').drop(['id', 'movie'], axis=1)"
   ]
  },
  {
   "cell_type": "markdown",
   "id": "dfe656c3",
   "metadata": {},
   "source": [
    "Mendapatkan rekomendasi `Gintama: The Movie (2010)` dari model KNN"
   ]
  },
  {
   "cell_type": "code",
   "execution_count": 188,
   "id": "18274f77",
   "metadata": {},
   "outputs": [
    {
     "name": "stderr",
     "output_type": "stream",
     "text": [
      "/home/tara/Projects/Python/machine-learning-monorepo/env/lib/python3.11/site-packages/sklearn/base.py:439: UserWarning: X does not have valid feature names, but NearestNeighbors was fitted with feature names\n",
      "  warnings.warn(\n"
     ]
    },
    {
     "data": {
      "text/html": [
       "<div>\n",
       "<style scoped>\n",
       "    .dataframe tbody tr th:only-of-type {\n",
       "        vertical-align: middle;\n",
       "    }\n",
       "\n",
       "    .dataframe tbody tr th {\n",
       "        vertical-align: top;\n",
       "    }\n",
       "\n",
       "    .dataframe thead th {\n",
       "        text-align: right;\n",
       "    }\n",
       "</style>\n",
       "<table border=\"1\" class=\"dataframe\">\n",
       "  <thead>\n",
       "    <tr style=\"text-align: right;\">\n",
       "      <th></th>\n",
       "      <th>movieId</th>\n",
       "      <th>title</th>\n",
       "      <th>userId</th>\n",
       "      <th>rating</th>\n",
       "      <th>distance</th>\n",
       "      <th>tag</th>\n",
       "    </tr>\n",
       "  </thead>\n",
       "  <tbody>\n",
       "    <tr>\n",
       "      <th>0</th>\n",
       "      <td>70334</td>\n",
       "      <td>Hannah Montana: The Movie (2009)</td>\n",
       "      <td>232.0</td>\n",
       "      <td>3.5</td>\n",
       "      <td>0.0</td>\n",
       "      <td>UnkNown</td>\n",
       "    </tr>\n",
       "    <tr>\n",
       "      <th>1</th>\n",
       "      <td>175303</td>\n",
       "      <td>It (2017)</td>\n",
       "      <td>306.0</td>\n",
       "      <td>4.0</td>\n",
       "      <td>0.0</td>\n",
       "      <td>UnkNown</td>\n",
       "    </tr>\n",
       "    <tr>\n",
       "      <th>2</th>\n",
       "      <td>161131</td>\n",
       "      <td>War Dogs (2016)</td>\n",
       "      <td>125.0</td>\n",
       "      <td>3.5</td>\n",
       "      <td>0.0</td>\n",
       "      <td>UnkNown</td>\n",
       "    </tr>\n",
       "    <tr>\n",
       "      <th>3</th>\n",
       "      <td>157296</td>\n",
       "      <td>Finding Dory (2016)</td>\n",
       "      <td>610.0</td>\n",
       "      <td>4.0</td>\n",
       "      <td>0.0</td>\n",
       "      <td>UnkNown</td>\n",
       "    </tr>\n",
       "    <tr>\n",
       "      <th>4</th>\n",
       "      <td>4896</td>\n",
       "      <td>Harry Potter and the Sorcerer's Stone (a.k.a. ...</td>\n",
       "      <td>154.0</td>\n",
       "      <td>5.0</td>\n",
       "      <td>0.0</td>\n",
       "      <td>Everything you want is here</td>\n",
       "    </tr>\n",
       "    <tr>\n",
       "      <th>5</th>\n",
       "      <td>101962</td>\n",
       "      <td>Wolf Children (Okami kodomo no ame to yuki) (2...</td>\n",
       "      <td>509.0</td>\n",
       "      <td>3.0</td>\n",
       "      <td>0.0</td>\n",
       "      <td>UnkNown</td>\n",
       "    </tr>\n",
       "    <tr>\n",
       "      <th>6</th>\n",
       "      <td>162600</td>\n",
       "      <td>Miss Peregrine's Home for Peculiar Children (2...</td>\n",
       "      <td>233.0</td>\n",
       "      <td>1.5</td>\n",
       "      <td>0.0</td>\n",
       "      <td>UnkNown</td>\n",
       "    </tr>\n",
       "    <tr>\n",
       "      <th>7</th>\n",
       "      <td>3793</td>\n",
       "      <td>X-Men (2000)</td>\n",
       "      <td>172.0</td>\n",
       "      <td>3.5</td>\n",
       "      <td>0.0</td>\n",
       "      <td>action</td>\n",
       "    </tr>\n",
       "    <tr>\n",
       "      <th>8</th>\n",
       "      <td>5388</td>\n",
       "      <td>Insomnia (2002)</td>\n",
       "      <td>80.0</td>\n",
       "      <td>4.0</td>\n",
       "      <td>0.0</td>\n",
       "      <td>Al Pacino</td>\n",
       "    </tr>\n",
       "    <tr>\n",
       "      <th>9</th>\n",
       "      <td>189111</td>\n",
       "      <td>Spiral (2018)</td>\n",
       "      <td>338.0</td>\n",
       "      <td>3.0</td>\n",
       "      <td>0.0</td>\n",
       "      <td>UnkNown</td>\n",
       "    </tr>\n",
       "  </tbody>\n",
       "</table>\n",
       "</div>"
      ],
      "text/plain": [
       "   movieId                                              title  userId  rating  \\\n",
       "0    70334                   Hannah Montana: The Movie (2009)   232.0     3.5   \n",
       "1   175303                                          It (2017)   306.0     4.0   \n",
       "2   161131                                    War Dogs (2016)   125.0     3.5   \n",
       "3   157296                                Finding Dory (2016)   610.0     4.0   \n",
       "4     4896  Harry Potter and the Sorcerer's Stone (a.k.a. ...   154.0     5.0   \n",
       "5   101962  Wolf Children (Okami kodomo no ame to yuki) (2...   509.0     3.0   \n",
       "6   162600  Miss Peregrine's Home for Peculiar Children (2...   233.0     1.5   \n",
       "7     3793                                       X-Men (2000)   172.0     3.5   \n",
       "8     5388                                    Insomnia (2002)    80.0     4.0   \n",
       "9   189111                                      Spiral (2018)   338.0     3.0   \n",
       "\n",
       "   distance                          tag  \n",
       "0       0.0                      UnkNown  \n",
       "1       0.0                      UnkNown  \n",
       "2       0.0                      UnkNown  \n",
       "3       0.0                      UnkNown  \n",
       "4       0.0  Everything you want is here  \n",
       "5       0.0                      UnkNown  \n",
       "6       0.0                      UnkNown  \n",
       "7       0.0                       action  \n",
       "8       0.0                    Al Pacino  \n",
       "9       0.0                      UnkNown  "
      ]
     },
     "execution_count": 188,
     "metadata": {},
     "output_type": "execute_result"
    }
   ],
   "source": [
    "get_recommendation_knn(\"Gintama: The Movie (2010)\")"
   ]
  },
  {
   "cell_type": "markdown",
   "id": "c9d04f23",
   "metadata": {},
   "source": [
    "## 8. Evaluasi"
   ]
  },
  {
   "cell_type": "markdown",
   "id": "54e67ad3",
   "metadata": {},
   "source": [
    "Membuat evaluasi metrik precision"
   ]
  },
  {
   "cell_type": "code",
   "execution_count": 134,
   "id": "d692e034",
   "metadata": {},
   "outputs": [],
   "source": [
    "# Fungsi untuk menghitung nilai presisi dari sistem rekomendasi\n",
    "def precision(inputan, hasil_rec):\n",
    "    relevant = 0\n",
    "    for result in hasil_rec['tag'].values.tolist():\n",
    "        if inputan['tag'] == result.lower():\n",
    "            relevant += 1\n",
    "    return relevant / len(hasil_rec)"
   ]
  },
  {
   "cell_type": "markdown",
   "id": "8d02c6cd",
   "metadata": {},
   "source": [
    "Membuat variable film untuk dilakukan evaluasi metrik"
   ]
  },
  {
   "cell_type": "code",
   "execution_count": 117,
   "id": "7416deae",
   "metadata": {},
   "outputs": [
    {
     "data": {
      "text/plain": [
       "id                                   11\n",
       "movie    American President, The (1995)\n",
       "tag                            politics\n",
       "Name: 10, dtype: object"
      ]
     },
     "execution_count": 117,
     "metadata": {},
     "output_type": "execute_result"
    }
   ],
   "source": [
    "# Input Evaluasi\n",
    "input_movie = movie_new.loc[10]\n",
    "input_movie"
   ]
  },
  {
   "cell_type": "markdown",
   "id": "3a17f1ba",
   "metadata": {},
   "source": [
    "### Evaluasi KNN"
   ]
  },
  {
   "cell_type": "markdown",
   "id": "1113609b",
   "metadata": {},
   "source": [
    "Mendapatkan rekomendasi dari `American President, The (1995)` dengan KNN"
   ]
  },
  {
   "cell_type": "code",
   "execution_count": 189,
   "id": "83d5df0e",
   "metadata": {},
   "outputs": [
    {
     "name": "stderr",
     "output_type": "stream",
     "text": [
      "/home/tara/Projects/Python/machine-learning-monorepo/env/lib/python3.11/site-packages/sklearn/base.py:439: UserWarning: X does not have valid feature names, but NearestNeighbors was fitted with feature names\n",
      "  warnings.warn(\n"
     ]
    },
    {
     "data": {
      "text/html": [
       "<div>\n",
       "<style scoped>\n",
       "    .dataframe tbody tr th:only-of-type {\n",
       "        vertical-align: middle;\n",
       "    }\n",
       "\n",
       "    .dataframe tbody tr th {\n",
       "        vertical-align: top;\n",
       "    }\n",
       "\n",
       "    .dataframe thead th {\n",
       "        text-align: right;\n",
       "    }\n",
       "</style>\n",
       "<table border=\"1\" class=\"dataframe\">\n",
       "  <thead>\n",
       "    <tr style=\"text-align: right;\">\n",
       "      <th></th>\n",
       "      <th>movieId</th>\n",
       "      <th>title</th>\n",
       "      <th>userId</th>\n",
       "      <th>rating</th>\n",
       "      <th>distance</th>\n",
       "      <th>tag</th>\n",
       "    </tr>\n",
       "  </thead>\n",
       "  <tbody>\n",
       "    <tr>\n",
       "      <th>0</th>\n",
       "      <td>7</td>\n",
       "      <td>Sabrina (1995)</td>\n",
       "      <td>6.0</td>\n",
       "      <td>4.0</td>\n",
       "      <td>0.0</td>\n",
       "      <td>remake</td>\n",
       "    </tr>\n",
       "    <tr>\n",
       "      <th>1</th>\n",
       "      <td>32</td>\n",
       "      <td>Twelve Monkeys (a.k.a. 12 Monkeys) (1995)</td>\n",
       "      <td>6.0</td>\n",
       "      <td>4.0</td>\n",
       "      <td>0.0</td>\n",
       "      <td>time travel</td>\n",
       "    </tr>\n",
       "    <tr>\n",
       "      <th>2</th>\n",
       "      <td>16</td>\n",
       "      <td>Casino (1995)</td>\n",
       "      <td>6.0</td>\n",
       "      <td>4.0</td>\n",
       "      <td>0.0</td>\n",
       "      <td>Mafia</td>\n",
       "    </tr>\n",
       "    <tr>\n",
       "      <th>3</th>\n",
       "      <td>34</td>\n",
       "      <td>Babe (1995)</td>\n",
       "      <td>6.0</td>\n",
       "      <td>4.0</td>\n",
       "      <td>0.0</td>\n",
       "      <td>Animal movie</td>\n",
       "    </tr>\n",
       "    <tr>\n",
       "      <th>4</th>\n",
       "      <td>11</td>\n",
       "      <td>American President, The (1995)</td>\n",
       "      <td>6.0</td>\n",
       "      <td>4.0</td>\n",
       "      <td>0.0</td>\n",
       "      <td>politics</td>\n",
       "    </tr>\n",
       "    <tr>\n",
       "      <th>5</th>\n",
       "      <td>317</td>\n",
       "      <td>Santa Clause, The (1994)</td>\n",
       "      <td>6.0</td>\n",
       "      <td>4.0</td>\n",
       "      <td>0.0</td>\n",
       "      <td>Christmas</td>\n",
       "    </tr>\n",
       "    <tr>\n",
       "      <th>6</th>\n",
       "      <td>17</td>\n",
       "      <td>Sense and Sensibility (1995)</td>\n",
       "      <td>6.0</td>\n",
       "      <td>4.0</td>\n",
       "      <td>0.0</td>\n",
       "      <td>Jane Austen</td>\n",
       "    </tr>\n",
       "    <tr>\n",
       "      <th>7</th>\n",
       "      <td>2</td>\n",
       "      <td>Jumanji (1995)</td>\n",
       "      <td>6.0</td>\n",
       "      <td>4.0</td>\n",
       "      <td>0.0</td>\n",
       "      <td>fantasy</td>\n",
       "    </tr>\n",
       "    <tr>\n",
       "      <th>8</th>\n",
       "      <td>6</td>\n",
       "      <td>Heat (1995)</td>\n",
       "      <td>6.0</td>\n",
       "      <td>4.0</td>\n",
       "      <td>0.0</td>\n",
       "      <td>UnkNown</td>\n",
       "    </tr>\n",
       "    <tr>\n",
       "      <th>9</th>\n",
       "      <td>261</td>\n",
       "      <td>Little Women (1994)</td>\n",
       "      <td>6.0</td>\n",
       "      <td>4.0</td>\n",
       "      <td>0.0</td>\n",
       "      <td>Louisa May Alcott</td>\n",
       "    </tr>\n",
       "  </tbody>\n",
       "</table>\n",
       "</div>"
      ],
      "text/plain": [
       "   movieId                                      title  userId  rating  \\\n",
       "0        7                             Sabrina (1995)     6.0     4.0   \n",
       "1       32  Twelve Monkeys (a.k.a. 12 Monkeys) (1995)     6.0     4.0   \n",
       "2       16                              Casino (1995)     6.0     4.0   \n",
       "3       34                                Babe (1995)     6.0     4.0   \n",
       "4       11             American President, The (1995)     6.0     4.0   \n",
       "5      317                   Santa Clause, The (1994)     6.0     4.0   \n",
       "6       17               Sense and Sensibility (1995)     6.0     4.0   \n",
       "7        2                             Jumanji (1995)     6.0     4.0   \n",
       "8        6                                Heat (1995)     6.0     4.0   \n",
       "9      261                        Little Women (1994)     6.0     4.0   \n",
       "\n",
       "   distance                tag  \n",
       "0       0.0             remake  \n",
       "1       0.0        time travel  \n",
       "2       0.0              Mafia  \n",
       "3       0.0       Animal movie  \n",
       "4       0.0           politics  \n",
       "5       0.0          Christmas  \n",
       "6       0.0        Jane Austen  \n",
       "7       0.0            fantasy  \n",
       "8       0.0            UnkNown  \n",
       "9       0.0  Louisa May Alcott  "
      ]
     },
     "execution_count": 189,
     "metadata": {},
     "output_type": "execute_result"
    }
   ],
   "source": [
    "# Rekomendasi KNN\n",
    "recommendation_knn = get_recommendation_knn(input_movie['movie'])\n",
    "recommendation_knn"
   ]
  },
  {
   "cell_type": "markdown",
   "id": "958cdb3b",
   "metadata": {},
   "source": [
    "Melihat hasil presisi dari KNN"
   ]
  },
  {
   "cell_type": "code",
   "execution_count": 174,
   "id": "25f55364",
   "metadata": {},
   "outputs": [
    {
     "ename": "KeyError",
     "evalue": "'tag'",
     "output_type": "error",
     "traceback": [
      "\u001b[0;31m---------------------------------------------------------------------------\u001b[0m",
      "\u001b[0;31mKeyError\u001b[0m                                  Traceback (most recent call last)",
      "File \u001b[0;32m~/Projects/Python/machine-learning-monorepo/env/lib/python3.11/site-packages/pandas/core/indexes/base.py:3802\u001b[0m, in \u001b[0;36mIndex.get_loc\u001b[0;34m(self, key, method, tolerance)\u001b[0m\n\u001b[1;32m   3801\u001b[0m \u001b[38;5;28;01mtry\u001b[39;00m:\n\u001b[0;32m-> 3802\u001b[0m     \u001b[38;5;28;01mreturn\u001b[39;00m \u001b[38;5;28mself\u001b[39m\u001b[38;5;241m.\u001b[39m_engine\u001b[38;5;241m.\u001b[39mget_loc(casted_key)\n\u001b[1;32m   3803\u001b[0m \u001b[38;5;28;01mexcept\u001b[39;00m \u001b[38;5;167;01mKeyError\u001b[39;00m \u001b[38;5;28;01mas\u001b[39;00m err:\n",
      "File \u001b[0;32m~/Projects/Python/machine-learning-monorepo/env/lib/python3.11/site-packages/pandas/_libs/index.pyx:138\u001b[0m, in \u001b[0;36mpandas._libs.index.IndexEngine.get_loc\u001b[0;34m()\u001b[0m\n",
      "File \u001b[0;32m~/Projects/Python/machine-learning-monorepo/env/lib/python3.11/site-packages/pandas/_libs/index.pyx:165\u001b[0m, in \u001b[0;36mpandas._libs.index.IndexEngine.get_loc\u001b[0;34m()\u001b[0m\n",
      "File \u001b[0;32mpandas/_libs/hashtable_class_helper.pxi:5745\u001b[0m, in \u001b[0;36mpandas._libs.hashtable.PyObjectHashTable.get_item\u001b[0;34m()\u001b[0m\n",
      "File \u001b[0;32mpandas/_libs/hashtable_class_helper.pxi:5753\u001b[0m, in \u001b[0;36mpandas._libs.hashtable.PyObjectHashTable.get_item\u001b[0;34m()\u001b[0m\n",
      "\u001b[0;31mKeyError\u001b[0m: 'tag'",
      "\nThe above exception was the direct cause of the following exception:\n",
      "\u001b[0;31mKeyError\u001b[0m                                  Traceback (most recent call last)",
      "Cell \u001b[0;32mIn[174], line 2\u001b[0m\n\u001b[1;32m      1\u001b[0m \u001b[38;5;66;03m# Menghitung Presisi KNN\u001b[39;00m\n\u001b[0;32m----> 2\u001b[0m precision(input_movie, recommendation_knn)\n",
      "Cell \u001b[0;32mIn[134], line 4\u001b[0m, in \u001b[0;36mprecision\u001b[0;34m(inputan, hasil_rec)\u001b[0m\n\u001b[1;32m      2\u001b[0m \u001b[38;5;28;01mdef\u001b[39;00m \u001b[38;5;21mprecision\u001b[39m(inputan, hasil_rec):\n\u001b[1;32m      3\u001b[0m     relevant \u001b[38;5;241m=\u001b[39m \u001b[38;5;241m0\u001b[39m\n\u001b[0;32m----> 4\u001b[0m     \u001b[38;5;28;01mfor\u001b[39;00m result \u001b[38;5;129;01min\u001b[39;00m hasil_rec[\u001b[38;5;124m'\u001b[39m\u001b[38;5;124mtag\u001b[39m\u001b[38;5;124m'\u001b[39m]\u001b[38;5;241m.\u001b[39mvalues\u001b[38;5;241m.\u001b[39mtolist():\n\u001b[1;32m      5\u001b[0m         \u001b[38;5;28;01mif\u001b[39;00m inputan[\u001b[38;5;124m'\u001b[39m\u001b[38;5;124mtag\u001b[39m\u001b[38;5;124m'\u001b[39m] \u001b[38;5;241m==\u001b[39m result\u001b[38;5;241m.\u001b[39mlower():\n\u001b[1;32m      6\u001b[0m             relevant \u001b[38;5;241m+\u001b[39m\u001b[38;5;241m=\u001b[39m \u001b[38;5;241m1\u001b[39m\n",
      "File \u001b[0;32m~/Projects/Python/machine-learning-monorepo/env/lib/python3.11/site-packages/pandas/core/frame.py:3807\u001b[0m, in \u001b[0;36mDataFrame.__getitem__\u001b[0;34m(self, key)\u001b[0m\n\u001b[1;32m   3805\u001b[0m \u001b[38;5;28;01mif\u001b[39;00m \u001b[38;5;28mself\u001b[39m\u001b[38;5;241m.\u001b[39mcolumns\u001b[38;5;241m.\u001b[39mnlevels \u001b[38;5;241m>\u001b[39m \u001b[38;5;241m1\u001b[39m:\n\u001b[1;32m   3806\u001b[0m     \u001b[38;5;28;01mreturn\u001b[39;00m \u001b[38;5;28mself\u001b[39m\u001b[38;5;241m.\u001b[39m_getitem_multilevel(key)\n\u001b[0;32m-> 3807\u001b[0m indexer \u001b[38;5;241m=\u001b[39m \u001b[38;5;28mself\u001b[39m\u001b[38;5;241m.\u001b[39mcolumns\u001b[38;5;241m.\u001b[39mget_loc(key)\n\u001b[1;32m   3808\u001b[0m \u001b[38;5;28;01mif\u001b[39;00m is_integer(indexer):\n\u001b[1;32m   3809\u001b[0m     indexer \u001b[38;5;241m=\u001b[39m [indexer]\n",
      "File \u001b[0;32m~/Projects/Python/machine-learning-monorepo/env/lib/python3.11/site-packages/pandas/core/indexes/base.py:3804\u001b[0m, in \u001b[0;36mIndex.get_loc\u001b[0;34m(self, key, method, tolerance)\u001b[0m\n\u001b[1;32m   3802\u001b[0m     \u001b[38;5;28;01mreturn\u001b[39;00m \u001b[38;5;28mself\u001b[39m\u001b[38;5;241m.\u001b[39m_engine\u001b[38;5;241m.\u001b[39mget_loc(casted_key)\n\u001b[1;32m   3803\u001b[0m \u001b[38;5;28;01mexcept\u001b[39;00m \u001b[38;5;167;01mKeyError\u001b[39;00m \u001b[38;5;28;01mas\u001b[39;00m err:\n\u001b[0;32m-> 3804\u001b[0m     \u001b[38;5;28;01mraise\u001b[39;00m \u001b[38;5;167;01mKeyError\u001b[39;00m(key) \u001b[38;5;28;01mfrom\u001b[39;00m \u001b[38;5;21;01merr\u001b[39;00m\n\u001b[1;32m   3805\u001b[0m \u001b[38;5;28;01mexcept\u001b[39;00m \u001b[38;5;167;01mTypeError\u001b[39;00m:\n\u001b[1;32m   3806\u001b[0m     \u001b[38;5;66;03m# If we have a listlike key, _check_indexing_error will raise\u001b[39;00m\n\u001b[1;32m   3807\u001b[0m     \u001b[38;5;66;03m#  InvalidIndexError. Otherwise we fall through and re-raise\u001b[39;00m\n\u001b[1;32m   3808\u001b[0m     \u001b[38;5;66;03m#  the TypeError.\u001b[39;00m\n\u001b[1;32m   3809\u001b[0m     \u001b[38;5;28mself\u001b[39m\u001b[38;5;241m.\u001b[39m_check_indexing_error(key)\n",
      "\u001b[0;31mKeyError\u001b[0m: 'tag'"
     ]
    }
   ],
   "source": [
    "# Menghitung Presisi KNN\n",
    "precision(input_movie, recommendation_knn)"
   ]
  },
  {
   "cell_type": "markdown",
   "id": "26089165",
   "metadata": {},
   "source": [
    "KNN memiliki presisi sebesar 1"
   ]
  },
  {
   "cell_type": "markdown",
   "id": "0d967e7c",
   "metadata": {},
   "source": [
    "### Evaluasi Cosine Similarity"
   ]
  },
  {
   "cell_type": "markdown",
   "id": "254d12ea",
   "metadata": {},
   "source": [
    "Mendapatkan rekomendasi dari `American President, The (1995)` dengan Cosine Similarity"
   ]
  },
  {
   "cell_type": "code",
   "execution_count": 171,
   "id": "c6402e45",
   "metadata": {},
   "outputs": [
    {
     "data": {
      "text/html": [
       "<div>\n",
       "<style scoped>\n",
       "    .dataframe tbody tr th:only-of-type {\n",
       "        vertical-align: middle;\n",
       "    }\n",
       "\n",
       "    .dataframe tbody tr th {\n",
       "        vertical-align: top;\n",
       "    }\n",
       "\n",
       "    .dataframe thead th {\n",
       "        text-align: right;\n",
       "    }\n",
       "</style>\n",
       "<table border=\"1\" class=\"dataframe\">\n",
       "  <thead>\n",
       "    <tr style=\"text-align: right;\">\n",
       "      <th></th>\n",
       "      <th>movie</th>\n",
       "      <th>tag</th>\n",
       "    </tr>\n",
       "  </thead>\n",
       "  <tbody>\n",
       "    <tr>\n",
       "      <th>0</th>\n",
       "      <td>Fahrenheit 9/11 (2004)</td>\n",
       "      <td>politics</td>\n",
       "    </tr>\n",
       "    <tr>\n",
       "      <th>1</th>\n",
       "      <td>Nixon (1995)</td>\n",
       "      <td>politics</td>\n",
       "    </tr>\n",
       "    <tr>\n",
       "      <th>2</th>\n",
       "      <td>Weather Underground, The (2002)</td>\n",
       "      <td>politics</td>\n",
       "    </tr>\n",
       "    <tr>\n",
       "      <th>3</th>\n",
       "      <td>Legally Blonde 2: Red, White &amp; Blonde (2003)</td>\n",
       "      <td>politics</td>\n",
       "    </tr>\n",
       "    <tr>\n",
       "      <th>4</th>\n",
       "      <td>Primary Colors (1998)</td>\n",
       "      <td>politics</td>\n",
       "    </tr>\n",
       "    <tr>\n",
       "      <th>5</th>\n",
       "      <td>Mr. Smith Goes to Washington (1939)</td>\n",
       "      <td>Politics</td>\n",
       "    </tr>\n",
       "    <tr>\n",
       "      <th>6</th>\n",
       "      <td>War Room, The (1993)</td>\n",
       "      <td>politics</td>\n",
       "    </tr>\n",
       "    <tr>\n",
       "      <th>7</th>\n",
       "      <td>Candidate, The (1972)</td>\n",
       "      <td>politics</td>\n",
       "    </tr>\n",
       "    <tr>\n",
       "      <th>8</th>\n",
       "      <td>Bob Roberts (1992)</td>\n",
       "      <td>politics</td>\n",
       "    </tr>\n",
       "    <tr>\n",
       "      <th>9</th>\n",
       "      <td>Something Wild (1986)</td>\n",
       "      <td>UnkNown</td>\n",
       "    </tr>\n",
       "  </tbody>\n",
       "</table>\n",
       "</div>"
      ],
      "text/plain": [
       "                                          movie       tag\n",
       "0                        Fahrenheit 9/11 (2004)  politics\n",
       "1                                  Nixon (1995)  politics\n",
       "2               Weather Underground, The (2002)  politics\n",
       "3  Legally Blonde 2: Red, White & Blonde (2003)  politics\n",
       "4                         Primary Colors (1998)  politics\n",
       "5           Mr. Smith Goes to Washington (1939)  Politics\n",
       "6                          War Room, The (1993)  politics\n",
       "7                         Candidate, The (1972)  politics\n",
       "8                            Bob Roberts (1992)  politics\n",
       "9                         Something Wild (1986)   UnkNown"
      ]
     },
     "execution_count": 171,
     "metadata": {},
     "output_type": "execute_result"
    }
   ],
   "source": [
    "# Rekomendasi Cosine Similarity\n",
    "recommendation_cosine = get_recommendation_cosine(input_movie['movie'])\n",
    "recommendation_cosine"
   ]
  },
  {
   "cell_type": "markdown",
   "id": "587a3b3d",
   "metadata": {},
   "source": [
    "Melihat hasil presisi dari Cosine Similarity"
   ]
  },
  {
   "cell_type": "code",
   "execution_count": 172,
   "id": "0246a4e0",
   "metadata": {},
   "outputs": [
    {
     "data": {
      "text/plain": [
       "0.9"
      ]
     },
     "execution_count": 172,
     "metadata": {},
     "output_type": "execute_result"
    }
   ],
   "source": [
    "# Menghitung Presisi Cosine Similarity\n",
    "precision(input_movie, recommendation_cosine)"
   ]
  },
  {
   "cell_type": "markdown",
   "id": "f2b72892",
   "metadata": {},
   "source": [
    "Cosine similarity memiliki precision sebesar 9"
   ]
  },
  {
   "cell_type": "markdown",
   "id": "032d1a5e",
   "metadata": {},
   "source": [
    "## Penutupan\n",
    "### Referensi\n",
    "- https://scikit-learn.org/stable/\n",
    "- https://grouplens.org/datasets/movielens/"
   ]
  }
 ],
 "metadata": {
  "kernelspec": {
   "display_name": "Python 3 (ipykernel)",
   "language": "python",
   "name": "python3"
  },
  "language_info": {
   "codemirror_mode": {
    "name": "ipython",
    "version": 3
   },
   "file_extension": ".py",
   "mimetype": "text/x-python",
   "name": "python",
   "nbconvert_exporter": "python",
   "pygments_lexer": "ipython3",
   "version": "3.11.3"
  }
 },
 "nbformat": 4,
 "nbformat_minor": 5
}
